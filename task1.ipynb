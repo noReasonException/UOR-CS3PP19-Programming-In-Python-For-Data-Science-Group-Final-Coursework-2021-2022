{
 "cells": [
  {
   "cell_type": "markdown",
   "id": "33398321",
   "metadata": {},
   "source": [
    "## Task 1 – Data Gathering and Pre-processing\n"
   ]
  },
  {
   "cell_type": "markdown",
   "id": "09826242",
   "metadata": {},
   "source": [
    "### API Connection"
   ]
  },
  {
   "cell_type": "markdown",
   "id": "8b2abfdc",
   "metadata": {},
   "source": [
    "#### Importing libraries and setting keys"
   ]
  },
  {
   "cell_type": "code",
   "execution_count": 1,
   "id": "8da014aa",
   "metadata": {},
   "outputs": [],
   "source": [
    "import tweepy\n",
    "API_KEY = 'yNrkYGayTA4tqIRWfNmwd350n'\n",
    "API_SECRET_KEY = 'MA8EOw0hJp55gjWrwupYjOdmuTRxBvgpaal7lycwobNAqnEckx'\n",
    "ACCESS_TOKEN = '1342791046317670400-AeXR52Ohn483w4wzQQ6Zgwzef8Cx3T'\n",
    "ACCESS_TOKEN_SECRET = 'g1W4dKjZrFlHlvkMOWLlBQ7PtcIAFpRAgm4gaoYMoAfDg'\n",
    "BEARER_TOKEN = 'AAAAAAAAAAAAAAAAAAAAAExyUgEAAAAAdgqhXDb9kFhloRV35jEE50HTeUY%3DXRvwQyJDaYvYHM5NHHWPpCDxUt7CsmJfdoAQHPA9m0SKQL3dY6'"
   ]
  },
  {
   "cell_type": "markdown",
   "id": "8e9baf6e",
   "metadata": {},
   "source": [
    "#### Establishing connection with Twitter"
   ]
  },
  {
   "cell_type": "code",
   "execution_count": 2,
   "id": "2416df6a",
   "metadata": {},
   "outputs": [],
   "source": [
    "auth = tweepy.OAuthHandler(API_KEY, API_SECRET_KEY)\n",
    "auth.set_access_token(ACCESS_TOKEN, ACCESS_TOKEN_SECRET)\n",
    "api = tweepy.API(auth)\n"
   ]
  },
  {
   "cell_type": "markdown",
   "id": "328a7d6b",
   "metadata": {},
   "source": [
    "#### Getting the users data"
   ]
  },
  {
   "cell_type": "code",
   "execution_count": 32,
   "id": "a2978114",
   "metadata": {},
   "outputs": [],
   "source": [
    "# Because the API can only give us the first 200 and we need 300 we need to be a bit clever about it a do 2 requests one that\n",
    "# will return 200 and one that will return 100 bellow the last one\n",
    "# We use 101 as the count because the max_id we be included which afterwards we are going to drop\n",
    "# Lastly we combine the 200 and the 100 timelines to get 300 tweets\n",
    "billGatesUser = api.get_user(screen_name='BillGates')\n",
    "billGatesTimeline200 = api.user_timeline(screen_name='BillGates', count = 200, tweet_mode='extended')### Needs to be added in everything\n",
    "billGatesTimeline100 = api.user_timeline(screen_name='BillGates', count = 101, max_id = billGatesTimeline200[199]._json['id'])[1:101]\n",
    "billGatesTimeline = billGatesTimeline200 + billGatesTimeline100\n",
    "\n",
    "elonMuskUser = api.get_user(screen_name='elonmusk')\n",
    "elonMuskTimeline200 = api.user_timeline(screen_name='elonmusk', count = 200)\n",
    "elonMuskTimeline100 = api.user_timeline(screen_name='elonmusk', count = 101, max_id = elonMuskTimeline200[199]._json['id'])[1:101]\n",
    "elonMuskTimeline = elonMuskTimeline200 + elonMuskTimeline100\n",
    "\n",
    "\n",
    "ellenDeGeneresUser = api.get_user(screen_name='TheEllenShow')\n",
    "ellenDeGeneresTimeline200 = api.user_timeline(screen_name='TheEllenShow', count = 200)\n",
    "ellenDeGeneresTimeline100 = api.user_timeline(screen_name='TheEllenShow', count = 101, max_id = ellenDeGeneresTimeline200[199]._json['id'])[1:101]\n",
    "ellenDeGeneresTimeline = ellenDeGeneresTimeline200 + ellenDeGeneresTimeline100"
   ]
  },
  {
   "cell_type": "markdown",
   "id": "0d003348",
   "metadata": {},
   "source": [
    "### Data Pre-processing"
   ]
  },
  {
   "cell_type": "markdown",
   "id": "42133bed",
   "metadata": {},
   "source": [
    "#### Necessary imports"
   ]
  },
  {
   "cell_type": "code",
   "execution_count": 33,
   "id": "97d8e9d1",
   "metadata": {},
   "outputs": [],
   "source": [
    "import pandas as pd\n",
    "import json"
   ]
  },
  {
   "cell_type": "markdown",
   "id": "2908f049",
   "metadata": {},
   "source": [
    "#### Definition of a function for the timeline processing "
   ]
  },
  {
   "cell_type": "code",
   "execution_count": 34,
   "id": "2235a72f",
   "metadata": {},
   "outputs": [],
   "source": [
    "def setUpTimelineList(timeline):\n",
    "    listOfTweets = []\n",
    "    for each_json_tweet in timeline:\n",
    "        listOfTweets.append(each_json_tweet._json)\n",
    "    return listOfTweets"
   ]
  },
  {
   "cell_type": "markdown",
   "id": "d78ade81",
   "metadata": {},
   "source": [
    "#### Bill Gates pre-processing"
   ]
  },
  {
   "cell_type": "code",
   "execution_count": 35,
   "id": "85749e7b",
   "metadata": {},
   "outputs": [],
   "source": [
    "billGatesUserFrame = pd.json_normalize(billGatesUser._json)\n",
    "\n",
    "billGatesTimelineFrame = pd.DataFrame(setUpTimelineList(billGatesTimeline))"
   ]
  },
  {
   "cell_type": "markdown",
   "id": "24754bbd",
   "metadata": {},
   "source": [
    "#### Elon Musk pre-processing"
   ]
  },
  {
   "cell_type": "code",
   "execution_count": 36,
   "id": "67aeae1f",
   "metadata": {},
   "outputs": [],
   "source": [
    "elonMuskUserFrame = pd.json_normalize(elonMuskUser._json)\n",
    "\n",
    "elonMuskTimelineFrame = pd.DataFrame(setUpTimelineList(elonMuskTimeline))"
   ]
  },
  {
   "cell_type": "markdown",
   "id": "452167ed",
   "metadata": {},
   "source": [
    "#### Ellen DeGenerous pre-processing"
   ]
  },
  {
   "cell_type": "code",
   "execution_count": 37,
   "id": "e2d29418",
   "metadata": {},
   "outputs": [],
   "source": [
    "ellenDeGeneresUserFrame = pd.json_normalize(ellenDeGeneresUser._json)\n",
    "\n",
    "ellenDeGeneresTimelineFrame = pd.DataFrame(setUpTimelineList(ellenDeGeneresTimeline))"
   ]
  },
  {
   "cell_type": "markdown",
   "id": "8f753295",
   "metadata": {},
   "source": [
    "#### Adding all the users together into one dataframe"
   ]
  },
  {
   "cell_type": "code",
   "execution_count": 38,
   "id": "6b8c802c",
   "metadata": {},
   "outputs": [],
   "source": [
    "frames = [billGatesUserFrame, elonMuskUserFrame, ellenDeGeneresUserFrame]\n",
    "usersFrame = pd.concat(frames)"
   ]
  },
  {
   "cell_type": "markdown",
   "id": "715b0a52",
   "metadata": {},
   "source": [
    "### Data Cleansing "
   ]
  },
  {
   "cell_type": "markdown",
   "id": "1b37cec5",
   "metadata": {},
   "source": [
    "#### Definition a function for field selection"
   ]
  },
  {
   "cell_type": "code",
   "execution_count": 39,
   "id": "7f15fda2",
   "metadata": {},
   "outputs": [],
   "source": [
    "def cleanUpColumns(columnsToKeep, dataframe):\n",
    "    for column in dataframe:\n",
    "        if column not in columnsToKeep:\n",
    "            dataframe = dataframe.drop([column], axis = 1)\n",
    "    return dataframe"
   ]
  },
  {
   "cell_type": "markdown",
   "id": "d49455d0",
   "metadata": {},
   "source": [
    "#### Removing all the unnecessary data from the usersFrame"
   ]
  },
  {
   "cell_type": "code",
   "execution_count": 40,
   "id": "c40cede5",
   "metadata": {},
   "outputs": [],
   "source": [
    "#Just to get a bit clever we will just write the ones we want \n",
    "importantColumns = ['id', 'name', 'screen_name', 'description', 'followers_count', 'friends_count', 'listed_count', 'created_at', \n",
    "                    'favourites_count', 'statuses_count', 'status.id', 'status.text']\n",
    "usersFrame = cleanUpColumns(importantColumns, usersFrame)"
   ]
  },
  {
   "cell_type": "markdown",
   "id": "69bdb2bd",
   "metadata": {},
   "source": [
    "#### Removing all the unnecessary data from the users timelines frames"
   ]
  },
  {
   "cell_type": "code",
   "execution_count": 41,
   "id": "03159a96",
   "metadata": {},
   "outputs": [],
   "source": [
    "#Following the same process as above we write only the onces we need\n",
    "importantColumns = ['created_at', 'id', 'text','truncated', 'entities', 'in_reply_to_status_id','in_reply_to_user_id',\n",
    "                    'in_reply_to_screen_name', 'is_quote_status','retweet_count', 'favorite_count']\n",
    "billGatesTimelineFrame = cleanUpColumns(importantColumns, billGatesTimelineFrame)\n",
    "elonMuskTimelineFrame = cleanUpColumns(importantColumns, elonMuskTimelineFrame)\n",
    "ellenDeGeneresTimelineFrame = cleanUpColumns(importantColumns, ellenDeGeneresTimelineFrame)"
   ]
  },
  {
   "cell_type": "markdown",
   "id": "00843935",
   "metadata": {},
   "source": [
    "#### Creating columns for hashtags and users mentioned from entities"
   ]
  },
  {
   "cell_type": "code",
   "execution_count": 42,
   "id": "eae94585",
   "metadata": {},
   "outputs": [],
   "source": [
    "# The bellow functions are used to process the hashtags and the users mentioned from the entities columns  \n",
    "def processingHashtags(entity):\n",
    "    if entity['hashtags']:\n",
    "        hashtags = []\n",
    "        for hashtag in entity['hashtags']:\n",
    "            hashtags.append(hashtag['text'])\n",
    "        return hashtags\n",
    "    return 'N/A'\n",
    "\n",
    "def processingUserMentioned(entity):\n",
    "    if entity['user_mentions']:\n",
    "        users = []\n",
    "        for user in entity['user_mentions']:\n",
    "            users.append(user['screen_name'])\n",
    "        return users\n",
    "    return 'N/A'"
   ]
  },
  {
   "cell_type": "code",
   "execution_count": 43,
   "id": "1e41f4c3",
   "metadata": {},
   "outputs": [],
   "source": [
    "#The bellow function extracts the important data from the entities column and then it drops the column\n",
    "def processEntities(dataframe):\n",
    "    dataframe['hashtags'] = dataframe['entities'].apply(processingHashtags)\n",
    "    dataframe['user_mentions'] = dataframe['entities'].apply(processingUserMentioned)\n",
    "    dataframe = dataframe.drop(['entities'], axis=1)\n",
    "    return dataframe"
   ]
  },
  {
   "cell_type": "code",
   "execution_count": 44,
   "id": "f3407923",
   "metadata": {},
   "outputs": [],
   "source": [
    "billGatesTimelineFrame = processEntities(billGatesTimelineFrame)\n",
    "elonMuskTimelineFrame = processEntities(elonMuskTimelineFrame)\n",
    "ellenDeGeneresTimelineFrame = processEntities(ellenDeGeneresTimelineFrame)"
   ]
  },
  {
   "cell_type": "markdown",
   "id": "aef0defe",
   "metadata": {},
   "source": [
    "#### Converting all the NaN's to N/A"
   ]
  },
  {
   "cell_type": "code",
   "execution_count": 45,
   "id": "3295d1b0",
   "metadata": {},
   "outputs": [],
   "source": [
    "billGatesTimelineFrame = billGatesTimelineFrame.fillna('N/A')\n",
    "elonMuskTimelineFrame = elonMuskTimelineFrame.fillna('N/A')\n",
    "ellenDeGeneresTimelineFrame = ellenDeGeneresTimelineFrame.fillna('N/A')\n",
    "usersFrame = usersFrame.fillna('N/A')\n"
   ]
  },
  {
   "cell_type": "markdown",
   "id": "ee63934b",
   "metadata": {},
   "source": [
    "#### Fixing the dates"
   ]
  },
  {
   "cell_type": "code",
   "execution_count": 46,
   "id": "e01c341a",
   "metadata": {},
   "outputs": [],
   "source": [
    "billGatesTimelineFrame['created_at'] = pd.to_datetime(billGatesTimelineFrame['created_at'])\n",
    "elonMuskTimelineFrame['created_at'] = pd.to_datetime(elonMuskTimelineFrame['created_at'])\n",
    "ellenDeGeneresTimelineFrame['created_at'] = pd.to_datetime(ellenDeGeneresTimelineFrame['created_at'])\n",
    "usersFrame['created_at'] = pd.to_datetime(usersFrame['created_at'])"
   ]
  },
  {
   "cell_type": "code",
   "execution_count": 49,
   "id": "6b7672b7",
   "metadata": {},
   "outputs": [
    {
     "data": {
      "text/plain": [
       "'Thank you, @SecGranholm for your leadership. The commitment of @ENERGY and the innovate spirit of our National Labs will drive the breakthroughs we need to help the whole world get to #NetZero. https://t.co/RutwW0EFoH'"
      ]
     },
     "execution_count": 49,
     "metadata": {},
     "output_type": "execute_result"
    }
   ],
   "source": [
    "billGatesTimeline[0]._json['full_text']"
   ]
  },
  {
   "cell_type": "markdown",
   "id": "96273c36",
   "metadata": {},
   "source": [
    "#### Thigs to note"
   ]
  },
  {
   "cell_type": "markdown",
   "id": "fb457078",
   "metadata": {},
   "source": [
    "Even though the data cleansing will be easier and faster with the tweeter API V2 we decided to use the V1 because we fill that it has more appropriate data for our research."
   ]
  },
  {
   "cell_type": "code",
   "execution_count": null,
   "id": "845d688c",
   "metadata": {},
   "outputs": [],
   "source": []
  },
  {
   "cell_type": "markdown",
   "id": "837d0f97",
   "metadata": {},
   "source": [
    "#### Analysis on users mentioned"
   ]
  },
  {
   "cell_type": "code",
   "execution_count": 18,
   "id": "b8e238c3",
   "metadata": {},
   "outputs": [],
   "source": [
    "def getUsersMentioned(timelineFrame):\n",
    "    users = {}\n",
    "    for listOfUsers in timelineFrame['user_mentions']:\n",
    "        if listOfUsers != 'N/A':\n",
    "            for user in listOfUsers:\n",
    "                if user in users:\n",
    "                    users[user] +=1\n",
    "                else:\n",
    "                    users[user] = 1\n",
    "    return pd.Series(users)"
   ]
  },
  {
   "cell_type": "code",
   "execution_count": 19,
   "id": "e197557e",
   "metadata": {},
   "outputs": [],
   "source": [
    "bill = getUsersMentioned(billGatesTimelineFrame)\n",
    "elon = getUsersMentioned(elonMuskTimelineFrame)\n",
    "ellen = getUsersMentioned(ellenDeGeneresTimelineFrame)"
   ]
  },
  {
   "cell_type": "code",
   "execution_count": 20,
   "id": "7a49c8e9",
   "metadata": {},
   "outputs": [
    {
     "data": {
      "text/plain": [
       "Breakthrough       17\n",
       "gatesfoundation     9\n",
       "GlobalFund          5\n",
       "melindagates        5\n",
       "narendramodi        4\n",
       "Rotary              3\n",
       "andersoncooper      3\n",
       "POTUS               3\n",
       "rajpanjabi          3\n",
       "MSuzman             3\n",
       "dtype: int64"
      ]
     },
     "execution_count": 20,
     "metadata": {},
     "output_type": "execute_result"
    }
   ],
   "source": [
    "bill.sort_values(ascending=False).head(10)"
   ]
  },
  {
   "cell_type": "code",
   "execution_count": 21,
   "id": "70b0ce8e",
   "metadata": {},
   "outputs": [
    {
     "data": {
      "text/plain": [
       "N/A    55.666667\n",
       "Name: user_mentions, dtype: float64"
      ]
     },
     "execution_count": 21,
     "metadata": {},
     "output_type": "execute_result"
    }
   ],
   "source": [
    "billGatesTimelineFrame['user_mentions'].value_counts().head(1) / 300 * 100"
   ]
  },
  {
   "cell_type": "code",
   "execution_count": 22,
   "id": "9ebbc22f",
   "metadata": {},
   "outputs": [
    {
     "data": {
      "text/plain": [
       "OhBubble           12\n",
       "KristenBell        11\n",
       "KimKardashian       9\n",
       "nbc                 7\n",
       "official_tWitch     5\n",
       "daxshepard          5\n",
       "TheEllenShow        5\n",
       "TiffanyHaddish      4\n",
       "mariolopezviva      4\n",
       "ArsenioHall         3\n",
       "dtype: int64"
      ]
     },
     "execution_count": 22,
     "metadata": {},
     "output_type": "execute_result"
    }
   ],
   "source": [
    "ellen.sort_values(ascending=False).head(10)"
   ]
  },
  {
   "cell_type": "code",
   "execution_count": 23,
   "id": "f20e2d2e",
   "metadata": {},
   "outputs": [
    {
     "data": {
      "text/plain": [
       "N/A    52.666667\n",
       "Name: user_mentions, dtype: float64"
      ]
     },
     "execution_count": 23,
     "metadata": {},
     "output_type": "execute_result"
    }
   ],
   "source": [
    "ellenDeGeneresTimelineFrame['user_mentions'].value_counts().head(1) / 300 * 100"
   ]
  },
  {
   "cell_type": "code",
   "execution_count": 24,
   "id": "bd24a6d3",
   "metadata": {},
   "outputs": [
    {
     "data": {
      "text/plain": [
       "Tesla             22\n",
       "SpaceX            16\n",
       "BillyM2k          15\n",
       "teslaownersSV     15\n",
       "WholeMarsBlog     13\n",
       "Teslarati         12\n",
       "PPathole          11\n",
       "SawyerMerritt     10\n",
       "Erdayastronaut     7\n",
       "WR4NYGov           6\n",
       "dtype: int64"
      ]
     },
     "execution_count": 24,
     "metadata": {},
     "output_type": "execute_result"
    }
   ],
   "source": [
    "elon.sort_values(ascending=False).head(10) "
   ]
  },
  {
   "cell_type": "code",
   "execution_count": 25,
   "id": "d4d11b83",
   "metadata": {},
   "outputs": [
    {
     "data": {
      "text/plain": [
       "N/A    12.333333\n",
       "Name: user_mentions, dtype: float64"
      ]
     },
     "execution_count": 25,
     "metadata": {},
     "output_type": "execute_result"
    }
   ],
   "source": [
    "elonMuskTimelineFrame['user_mentions'].value_counts().head(1) / 300 * 100"
   ]
  },
  {
   "cell_type": "markdown",
   "id": "321f7fe9",
   "metadata": {},
   "source": [
    "We can see that both Elon and Bill mainly mention their companies/foundations while Ellen mostly mentions the people that appear in her show. Bill has the lowest users mentioned in his tweets with 42% tweets with users mentioned and Elon the most with only 13% of his tweets not having a user mentioned.  "
   ]
  },
  {
   "cell_type": "code",
   "execution_count": 27,
   "id": "508e8531",
   "metadata": {},
   "outputs": [
    {
     "data": {
      "text/plain": [
       "str"
      ]
     },
     "execution_count": 27,
     "metadata": {},
     "output_type": "execute_result"
    }
   ],
   "source": [
    "type(billGatesTimelineFrame['created_at'][0])"
   ]
  },
  {
   "cell_type": "code",
   "execution_count": null,
   "id": "deec9ab8",
   "metadata": {},
   "outputs": [],
   "source": []
  },
  {
   "cell_type": "code",
   "execution_count": null,
   "id": "38396364",
   "metadata": {},
   "outputs": [],
   "source": []
  },
  {
   "cell_type": "code",
   "execution_count": null,
   "id": "95849d49",
   "metadata": {},
   "outputs": [],
   "source": []
  },
  {
   "cell_type": "code",
   "execution_count": null,
   "id": "737c16fc",
   "metadata": {},
   "outputs": [],
   "source": []
  }
 ],
 "metadata": {
  "kernelspec": {
   "display_name": "Python 3",
   "language": "python",
   "name": "python3"
  },
  "language_info": {
   "codemirror_mode": {
    "name": "ipython",
    "version": 3
   },
   "file_extension": ".py",
   "mimetype": "text/x-python",
   "name": "python",
   "nbconvert_exporter": "python",
   "pygments_lexer": "ipython3",
   "version": "3.8.8"
  }
 },
 "nbformat": 4,
 "nbformat_minor": 5
}
