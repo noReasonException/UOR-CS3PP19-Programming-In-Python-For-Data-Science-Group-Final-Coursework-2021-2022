{
 "cells": [
  {
   "cell_type": "markdown",
   "id": "35118c42",
   "metadata": {},
   "source": [
    "## Notes"
   ]
  },
  {
   "cell_type": "markdown",
   "id": "57b56bc1",
   "metadata": {},
   "source": [
    "As 'area of influence' we define \n",
    "1. The Influencer's network of engaged users(users that retweet)\n",
    "2. The geographic area of the users, belonging to the Influencer's network\n",
    "So the analysis will include both definitions and both graphs"
   ]
  },
  {
   "cell_type": "markdown",
   "id": "49ecaf9f",
   "metadata": {},
   "source": [
    "# [Stage 1] Data acquisition"
   ]
  },
  {
   "cell_type": "markdown",
   "id": "8ba1b70e",
   "metadata": {},
   "source": [
    "### Initialization of nessesary libraries and tools"
   ]
  },
  {
   "cell_type": "markdown",
   "id": "d44ebf45",
   "metadata": {},
   "source": [
    "Import of necessary libraries and definition of necessary keys for Twitter API"
   ]
  },
  {
   "cell_type": "code",
   "execution_count": 1,
   "id": "342955d0",
   "metadata": {},
   "outputs": [],
   "source": [
    "#Core Libraries\n",
    "import pandas as pd\n",
    "import numpy as np\n",
    "import matplotlib.pyplot as plt\n",
    "import networkx as nx\n",
    "\n",
    "\n",
    "import math #math.log() used in visualisations\n",
    "import tweepy #Twitter API Wrapper library\n",
    "import time #Sleep functionality to keep up with twitter's Quotas\n",
    "import random #Contribute with time library to keep the twitter quotas under limit\n"
   ]
  },
  {
   "cell_type": "code",
   "execution_count": 2,
   "id": "f51ed247",
   "metadata": {},
   "outputs": [],
   "source": [
    "\n",
    "API_KEY = 'yNrkYGayTA4tqIRWfNmwd350n'\n",
    "API_SECRET_KEY = 'MA8EOw0hJp55gjWrwupYjOdmuTRxBvgpaal7lycwobNAqnEckx'\n",
    "ACCESS_TOKEN = '1342791046317670400-AeXR52Ohn483w4wzQQ6Zgwzef8Cx3T'\n",
    "ACCESS_TOKEN_SECRET = 'g1W4dKjZrFlHlvkMOWLlBQ7PtcIAFpRAgm4gaoYMoAfDg'\n",
    "BEARER_TOKEN = 'AAAAAAAAAAAAAAAAAAAAAExyUgEAAAAAdgqhXDb9kFhloRV35jEE50HTeUY%3DXRvwQyJDaYvYHM5NHHWPpCDxUt7CsmJfdoAQHPA9m0SKQL3dY6'\n"
   ]
  },
  {
   "cell_type": "markdown",
   "id": "47d3a46c",
   "metadata": {},
   "source": [
    "Initialization of tweepy library"
   ]
  },
  {
   "cell_type": "code",
   "execution_count": 3,
   "id": "1cdff51e",
   "metadata": {},
   "outputs": [],
   "source": [
    "\n",
    "auth = tweepy.OAuthHandler(API_KEY, API_SECRET_KEY)\n",
    "auth.set_access_token(ACCESS_TOKEN, ACCESS_TOKEN_SECRET)\n",
    "api = tweepy.API(auth) #Client to be used for twitter's V1 API calls\n",
    "client=tweepy.Client(BEARER_TOKEN,API_KEY,API_SECRET_KEY,ACCESS_TOKEN,ACCESS_TOKEN_SECRET) #Client to be used for twitter's V2 API calls\n"
   ]
  },
  {
   "cell_type": "markdown",
   "id": "0df8b24f",
   "metadata": {},
   "source": [
    "The First operation to be done, is to retrieve for our choosen influencers their unique ID's"
   ]
  },
  {
   "cell_type": "code",
   "execution_count": 4,
   "id": "81e51b2d",
   "metadata": {},
   "outputs": [],
   "source": [
    "billId=str(api.get_user(screen_name='BillGates')._json['id'])\n",
    "elonId=str(api.get_user(screen_name='elonmusk')._json['id'])\n",
    "ellenId=str(api.get_user(screen_name='TheEllenShow')._json['id'])\n"
   ]
  },
  {
   "cell_type": "code",
   "execution_count": 5,
   "id": "6d5db2cd",
   "metadata": {},
   "outputs": [
    {
     "data": {
      "text/plain": [
       "['50393960', '44196397', '15846407']"
      ]
     },
     "execution_count": 5,
     "metadata": {},
     "output_type": "execute_result"
    }
   ],
   "source": [
    "[billId,elonId,ellenId] #Their retrieved ID's"
   ]
  },
  {
   "cell_type": "markdown",
   "id": "1daf0d73",
   "metadata": {},
   "source": [
    "### Tweets retrieval "
   ]
  },
  {
   "cell_type": "markdown",
   "id": "fd3ebebc",
   "metadata": {},
   "source": [
    "In this section, we will retrieve the maximum allowed number of tweets, 3100 per user, because the maximum allowed retrieved tweets per request are 100, we are forced to use pagination"
   ]
  },
  {
   "cell_type": "markdown",
   "id": "0aa62a0e",
   "metadata": {},
   "source": [
    "From the following data retrieval, we are interested only in the network of each influencer, therefore we drop all of the columns but the tweet_id for the given user_id"
   ]
  },
  {
   "cell_type": "code",
   "execution_count": 6,
   "id": "ea3f0837",
   "metadata": {},
   "outputs": [],
   "source": [
    "userTweetMapFrame = pd.DataFrame(columns=['user_id','tweet_id']) #The DataFrame that will hold the tweets\n",
    "max_results=100 #Maximum allowed number of tweets per request = 100\n",
    "\n",
    "#Other variables\n",
    "userIds=[billId,elonId,ellenId]\n",
    "paginatorSelector=0 "
   ]
  },
  {
   "cell_type": "code",
   "execution_count": 7,
   "id": "5480030e",
   "metadata": {},
   "outputs": [],
   "source": [
    "#We will retrieve 100*31 = 3100 tweets for every influencer of choice(limit=31)\n",
    "billPaginator = tweepy.Paginator(client.get_users_tweets, id=billId,max_results=max_results,limit=31)\n",
    "elonPaginator = tweepy.Paginator(client.get_users_tweets, id=elonId,max_results=max_results,limit=31)\n",
    "ellenPaginator = tweepy.Paginator(client.get_users_tweets, id=ellenId,max_results=max_results,limit=31)\n",
    "paginators = [billPaginator,elonPaginator,ellenPaginator]\n"
   ]
  },
  {
   "cell_type": "code",
   "execution_count": 8,
   "id": "f71ad0cf",
   "metadata": {},
   "outputs": [],
   "source": [
    "#The sole purpose of this function is to enclose the following, time-intensive code that needs a over 20\n",
    "#minutes to complete, in order to be able to run this analysis top-to-bottom in a reasonable amount of time,\n",
    "#the code can be run at any time by uncommenting the call below(indicated with ********* (asterisks)), The result \n",
    "#of this computation can be retrieved at any time by reading the file tweetMapFull.csv\n",
    "\n",
    "def getAllAvailableTweets():\n",
    "    userTweetMapFrame = pd.DataFrame(columns=['user_id','tweet_id'])\n",
    "    for batchOfTweets in billPaginator:\n",
    "        try:\n",
    "            series = map(lambda x:x.id,batchOfTweets.data)\n",
    "            ids=[userIds[0]]*len(batchOfTweets.data)\n",
    "            frame = pd.DataFrame({'user_id':ids,'tweet_id':series})\n",
    "            print(frame)\n",
    "            userTweetMapFrame=userTweetMapFrame.append(frame)\n",
    "            userTweetMapFrame.to_csv(\"tweetMapFull.csv\",index=False)\n",
    "            time.sleep(2)\n",
    "        except:\n",
    "            continue\n",
    "\n",
    "    for batchOfTweets in elonPaginator:\n",
    "        try:\n",
    "            series = map(lambda x:x.id,batchOfTweets.data)\n",
    "            ids=[userIds[1]]*len(batchOfTweets.data)\n",
    "            frame = pd.DataFrame({'user_id':ids,'tweet_id':series})\n",
    "            print(frame)\n",
    "            userTweetMapFrame=userTweetMapFrame.append(frame)\n",
    "            userTweetMapFrame.to_csv(\"tweetMapFull.csv\",index=False)\n",
    "            time.sleep(2)\n",
    "        except:\n",
    "            continue\n",
    "\n",
    "    for batchOfTweets in ellenPaginator:\n",
    "        try:\n",
    "            series = map(lambda x:x.id,batchOfTweets.data)\n",
    "            ids=[userIds[2]]*len(batchOfTweets.data)\n",
    "            frame = pd.DataFrame({'user_id':ids,'tweet_id':series})\n",
    "            print(frame)\n",
    "            userTweetMapFrame=userTweetMapFrame.append(frame)\n",
    "            userTweetMapFrame.to_csv(\"tweetMapFull.csv\",index=False)\n",
    "            time.sleep(2)\n",
    "        except:\n",
    "            continue\n",
    "            \n",
    "#getAllAvailableTweets() #*********\n",
    "#Checkpoint 1\n",
    "tweetMapFull = pd.read_csv(\"tweetMapFull.csv\",dtype = {'user_id':str,'tweet_id':str})"
   ]
  },
  {
   "cell_type": "code",
   "execution_count": 9,
   "id": "d8ccebda",
   "metadata": {},
   "outputs": [
    {
     "data": {
      "text/html": [
       "<div>\n",
       "<style scoped>\n",
       "    .dataframe tbody tr th:only-of-type {\n",
       "        vertical-align: middle;\n",
       "    }\n",
       "\n",
       "    .dataframe tbody tr th {\n",
       "        vertical-align: top;\n",
       "    }\n",
       "\n",
       "    .dataframe thead th {\n",
       "        text-align: right;\n",
       "    }\n",
       "</style>\n",
       "<table border=\"1\" class=\"dataframe\">\n",
       "  <thead>\n",
       "    <tr style=\"text-align: right;\">\n",
       "      <th></th>\n",
       "      <th>user_id</th>\n",
       "      <th>tweet_id</th>\n",
       "    </tr>\n",
       "  </thead>\n",
       "  <tbody>\n",
       "    <tr>\n",
       "      <th>0</th>\n",
       "      <td>50393960</td>\n",
       "      <td>1464659614448771073</td>\n",
       "    </tr>\n",
       "    <tr>\n",
       "      <th>1</th>\n",
       "      <td>50393960</td>\n",
       "      <td>1464288045541199874</td>\n",
       "    </tr>\n",
       "    <tr>\n",
       "      <th>2</th>\n",
       "      <td>50393960</td>\n",
       "      <td>1463528104614236167</td>\n",
       "    </tr>\n",
       "    <tr>\n",
       "      <th>3</th>\n",
       "      <td>50393960</td>\n",
       "      <td>1463186751619436546</td>\n",
       "    </tr>\n",
       "    <tr>\n",
       "      <th>4</th>\n",
       "      <td>50393960</td>\n",
       "      <td>1462583003272474628</td>\n",
       "    </tr>\n",
       "    <tr>\n",
       "      <th>...</th>\n",
       "      <td>...</td>\n",
       "      <td>...</td>\n",
       "    </tr>\n",
       "    <tr>\n",
       "      <th>6494</th>\n",
       "      <td>15846407</td>\n",
       "      <td>1182026314636619776</td>\n",
       "    </tr>\n",
       "    <tr>\n",
       "      <th>6495</th>\n",
       "      <td>15846407</td>\n",
       "      <td>1182017738627108865</td>\n",
       "    </tr>\n",
       "    <tr>\n",
       "      <th>6496</th>\n",
       "      <td>15846407</td>\n",
       "      <td>1182016640537354240</td>\n",
       "    </tr>\n",
       "    <tr>\n",
       "      <th>6497</th>\n",
       "      <td>15846407</td>\n",
       "      <td>1182000506132021249</td>\n",
       "    </tr>\n",
       "    <tr>\n",
       "      <th>6498</th>\n",
       "      <td>15846407</td>\n",
       "      <td>1181992707696128002</td>\n",
       "    </tr>\n",
       "  </tbody>\n",
       "</table>\n",
       "<p>6499 rows × 2 columns</p>\n",
       "</div>"
      ],
      "text/plain": [
       "       user_id             tweet_id\n",
       "0     50393960  1464659614448771073\n",
       "1     50393960  1464288045541199874\n",
       "2     50393960  1463528104614236167\n",
       "3     50393960  1463186751619436546\n",
       "4     50393960  1462583003272474628\n",
       "...        ...                  ...\n",
       "6494  15846407  1182026314636619776\n",
       "6495  15846407  1182017738627108865\n",
       "6496  15846407  1182016640537354240\n",
       "6497  15846407  1182000506132021249\n",
       "6498  15846407  1181992707696128002\n",
       "\n",
       "[6499 rows x 2 columns]"
      ]
     },
     "execution_count": 9,
     "metadata": {},
     "output_type": "execute_result"
    }
   ],
   "source": [
    "tweetMapFull #Example of the retrieved data"
   ]
  },
  {
   "cell_type": "markdown",
   "id": "721071e6",
   "metadata": {},
   "source": [
    "6k retweets seems a suspicious number, given that we have 3 influencers and have taken 3100 tweets from each of them, the number should be closer to 9k, lets have a look at how many tweets we have per user"
   ]
  },
  {
   "cell_type": "code",
   "execution_count": 10,
   "id": "c479ea37",
   "metadata": {},
   "outputs": [
    {
     "data": {
      "text/plain": [
       "user_id\n",
       "15846407    3099\n",
       "44196397     300\n",
       "50393960    3100\n",
       "dtype: int64"
      ]
     },
     "execution_count": 10,
     "metadata": {},
     "output_type": "execute_result"
    }
   ],
   "source": [
    "tweetMapFull.groupby(by='user_id').size()"
   ]
  },
  {
   "cell_type": "code",
   "execution_count": 11,
   "id": "5ef24e0e",
   "metadata": {},
   "outputs": [
    {
     "data": {
      "text/plain": [
       "['50393960', '44196397', '15846407']"
      ]
     },
     "execution_count": 11,
     "metadata": {},
     "output_type": "execute_result"
    }
   ],
   "source": [
    "[billId,elonId,ellenId] #Their retrieved ID's"
   ]
  },
  {
   "cell_type": "markdown",
   "id": "7ef2582a",
   "metadata": {},
   "source": [
    "Elon has only 300 tweets, bill and ellen has thousands, to not bias our analysis we keep 300 tweets on each account\n"
   ]
  },
  {
   "cell_type": "code",
   "execution_count": 12,
   "id": "52a32e5d",
   "metadata": {},
   "outputs": [],
   "source": [
    "billTweets = tweetMapFull.loc[tweetMapFull['user_id']==billId][0:300]\n",
    "elonTweets = tweetMapFull.loc[tweetMapFull['user_id']==elonId][0:300]\n",
    "ellenTweets = tweetMapFull.loc[tweetMapFull['user_id']==ellenId][0:300]"
   ]
  },
  {
   "cell_type": "code",
   "execution_count": 13,
   "id": "071b6151",
   "metadata": {},
   "outputs": [
    {
     "data": {
      "text/html": [
       "<div>\n",
       "<style scoped>\n",
       "    .dataframe tbody tr th:only-of-type {\n",
       "        vertical-align: middle;\n",
       "    }\n",
       "\n",
       "    .dataframe tbody tr th {\n",
       "        vertical-align: top;\n",
       "    }\n",
       "\n",
       "    .dataframe thead th {\n",
       "        text-align: right;\n",
       "    }\n",
       "</style>\n",
       "<table border=\"1\" class=\"dataframe\">\n",
       "  <thead>\n",
       "    <tr style=\"text-align: right;\">\n",
       "      <th></th>\n",
       "      <th>user_id</th>\n",
       "      <th>tweet_id</th>\n",
       "    </tr>\n",
       "  </thead>\n",
       "  <tbody>\n",
       "    <tr>\n",
       "      <th>0</th>\n",
       "      <td>50393960</td>\n",
       "      <td>1464659614448771073</td>\n",
       "    </tr>\n",
       "    <tr>\n",
       "      <th>1</th>\n",
       "      <td>50393960</td>\n",
       "      <td>1464288045541199874</td>\n",
       "    </tr>\n",
       "    <tr>\n",
       "      <th>2</th>\n",
       "      <td>50393960</td>\n",
       "      <td>1463528104614236167</td>\n",
       "    </tr>\n",
       "    <tr>\n",
       "      <th>3</th>\n",
       "      <td>50393960</td>\n",
       "      <td>1463186751619436546</td>\n",
       "    </tr>\n",
       "    <tr>\n",
       "      <th>4</th>\n",
       "      <td>50393960</td>\n",
       "      <td>1462583003272474628</td>\n",
       "    </tr>\n",
       "    <tr>\n",
       "      <th>...</th>\n",
       "      <td>...</td>\n",
       "      <td>...</td>\n",
       "    </tr>\n",
       "    <tr>\n",
       "      <th>3695</th>\n",
       "      <td>15846407</td>\n",
       "      <td>1433245716202209283</td>\n",
       "    </tr>\n",
       "    <tr>\n",
       "      <th>3696</th>\n",
       "      <td>15846407</td>\n",
       "      <td>1433242268459094020</td>\n",
       "    </tr>\n",
       "    <tr>\n",
       "      <th>3697</th>\n",
       "      <td>15846407</td>\n",
       "      <td>1433239858735026179</td>\n",
       "    </tr>\n",
       "    <tr>\n",
       "      <th>3698</th>\n",
       "      <td>15846407</td>\n",
       "      <td>1433234633320136705</td>\n",
       "    </tr>\n",
       "    <tr>\n",
       "      <th>3699</th>\n",
       "      <td>15846407</td>\n",
       "      <td>1433188250940702721</td>\n",
       "    </tr>\n",
       "  </tbody>\n",
       "</table>\n",
       "<p>900 rows × 2 columns</p>\n",
       "</div>"
      ],
      "text/plain": [
       "       user_id             tweet_id\n",
       "0     50393960  1464659614448771073\n",
       "1     50393960  1464288045541199874\n",
       "2     50393960  1463528104614236167\n",
       "3     50393960  1463186751619436546\n",
       "4     50393960  1462583003272474628\n",
       "...        ...                  ...\n",
       "3695  15846407  1433245716202209283\n",
       "3696  15846407  1433242268459094020\n",
       "3697  15846407  1433239858735026179\n",
       "3698  15846407  1433234633320136705\n",
       "3699  15846407  1433188250940702721\n",
       "\n",
       "[900 rows x 2 columns]"
      ]
     },
     "execution_count": 13,
     "metadata": {},
     "output_type": "execute_result"
    }
   ],
   "source": [
    "#Checkpoint 2\n",
    "finalExport = billTweets.append(elonTweets).append(ellenTweets)\n",
    "finalExport.to_csv(\"tweetMap.csv\",index=False)\n",
    "finalExport"
   ]
  },
  {
   "cell_type": "markdown",
   "id": "f841ad60",
   "metadata": {},
   "source": [
    "## Retweets and user locations retrieval"
   ]
  },
  {
   "cell_type": "markdown",
   "id": "825da9b9",
   "metadata": {},
   "source": [
    "In the following code, we will retrieve as many retweeter accounts as possible for those 900 tweets(300 per influencer). We will also request from Twitter via the metadata, the location field of the particular user who performed the retweet. The Location field will be used for the geolocation area of influence analysis later on"
   ]
  },
  {
   "cell_type": "code",
   "execution_count": 14,
   "id": "3565af29",
   "metadata": {},
   "outputs": [],
   "source": [
    "influencer_tweets=pd.read_csv(\"tweetMap.csv\",dtype = {'user_id':str,'tweet_id':str})"
   ]
  },
  {
   "cell_type": "code",
   "execution_count": 15,
   "id": "873308fd",
   "metadata": {},
   "outputs": [],
   "source": [
    "tweets_retweeters = pd.DataFrame(columns=['tweet_id','retweeter_id','retweeter_location']) #Result DataFrame\n",
    "iterator=iter(influencer_tweets['tweet_id'].tolist())  #Iterator declared here, in order the following code to \n",
    "#be fault-tolerant (if the function below stops, the state of the iterator remains in memory)"
   ]
  },
  {
   "cell_type": "code",
   "execution_count": 16,
   "id": "b4ae75e0",
   "metadata": {},
   "outputs": [
    {
     "data": {
      "text/html": [
       "<div>\n",
       "<style scoped>\n",
       "    .dataframe tbody tr th:only-of-type {\n",
       "        vertical-align: middle;\n",
       "    }\n",
       "\n",
       "    .dataframe tbody tr th {\n",
       "        vertical-align: top;\n",
       "    }\n",
       "\n",
       "    .dataframe thead th {\n",
       "        text-align: right;\n",
       "    }\n",
       "</style>\n",
       "<table border=\"1\" class=\"dataframe\">\n",
       "  <thead>\n",
       "    <tr style=\"text-align: right;\">\n",
       "      <th></th>\n",
       "      <th>Unnamed: 0</th>\n",
       "      <th>tweet_id</th>\n",
       "      <th>retweeter_id</th>\n",
       "      <th>retweeter_location</th>\n",
       "    </tr>\n",
       "  </thead>\n",
       "  <tbody>\n",
       "    <tr>\n",
       "      <th>0</th>\n",
       "      <td>0</td>\n",
       "      <td>1461380998743015425</td>\n",
       "      <td>861629679886880768</td>\n",
       "      <td>Dallas, TX</td>\n",
       "    </tr>\n",
       "    <tr>\n",
       "      <th>1</th>\n",
       "      <td>1</td>\n",
       "      <td>1461380998743015425</td>\n",
       "      <td>1034572631025098754</td>\n",
       "      <td>El Mundo</td>\n",
       "    </tr>\n",
       "    <tr>\n",
       "      <th>2</th>\n",
       "      <td>2</td>\n",
       "      <td>1461380998743015425</td>\n",
       "      <td>1425487033309581314</td>\n",
       "      <td>Bristol  🇪🇺 🇬🇧</td>\n",
       "    </tr>\n",
       "    <tr>\n",
       "      <th>3</th>\n",
       "      <td>3</td>\n",
       "      <td>1461380998743015425</td>\n",
       "      <td>1409329636954148869</td>\n",
       "      <td>Surrey, British Columbia</td>\n",
       "    </tr>\n",
       "    <tr>\n",
       "      <th>4</th>\n",
       "      <td>4</td>\n",
       "      <td>1461380998743015425</td>\n",
       "      <td>10221</td>\n",
       "      <td>philly</td>\n",
       "    </tr>\n",
       "    <tr>\n",
       "      <th>...</th>\n",
       "      <td>...</td>\n",
       "      <td>...</td>\n",
       "      <td>...</td>\n",
       "      <td>...</td>\n",
       "    </tr>\n",
       "    <tr>\n",
       "      <th>35781</th>\n",
       "      <td>39414</td>\n",
       "      <td>1415752955152666627</td>\n",
       "      <td>1412392837916864514</td>\n",
       "      <td>bead.99@icloud.com</td>\n",
       "    </tr>\n",
       "    <tr>\n",
       "      <th>35782</th>\n",
       "      <td>39415</td>\n",
       "      <td>1415752955152666627</td>\n",
       "      <td>2399137929</td>\n",
       "      <td>tulungagung</td>\n",
       "    </tr>\n",
       "    <tr>\n",
       "      <th>35783</th>\n",
       "      <td>39416</td>\n",
       "      <td>1415752955152666627</td>\n",
       "      <td>113410319</td>\n",
       "      <td>Brasil</td>\n",
       "    </tr>\n",
       "    <tr>\n",
       "      <th>35784</th>\n",
       "      <td>39417</td>\n",
       "      <td>1415752955152666627</td>\n",
       "      <td>751724810640785408</td>\n",
       "      <td>Karachi, Pakistan</td>\n",
       "    </tr>\n",
       "    <tr>\n",
       "      <th>35785</th>\n",
       "      <td>39418</td>\n",
       "      <td>1415752955152666627</td>\n",
       "      <td>200503070</td>\n",
       "      <td>Sydney, New South Wales</td>\n",
       "    </tr>\n",
       "  </tbody>\n",
       "</table>\n",
       "<p>35786 rows × 4 columns</p>\n",
       "</div>"
      ],
      "text/plain": [
       "       Unnamed: 0             tweet_id         retweeter_id  \\\n",
       "0               0  1461380998743015425   861629679886880768   \n",
       "1               1  1461380998743015425  1034572631025098754   \n",
       "2               2  1461380998743015425  1425487033309581314   \n",
       "3               3  1461380998743015425  1409329636954148869   \n",
       "4               4  1461380998743015425                10221   \n",
       "...           ...                  ...                  ...   \n",
       "35781       39414  1415752955152666627  1412392837916864514   \n",
       "35782       39415  1415752955152666627           2399137929   \n",
       "35783       39416  1415752955152666627            113410319   \n",
       "35784       39417  1415752955152666627   751724810640785408   \n",
       "35785       39418  1415752955152666627            200503070   \n",
       "\n",
       "             retweeter_location  \n",
       "0                    Dallas, TX  \n",
       "1                      El Mundo  \n",
       "2                Bristol  🇪🇺 🇬🇧  \n",
       "3      Surrey, British Columbia  \n",
       "4                        philly  \n",
       "...                         ...  \n",
       "35781        bead.99@icloud.com  \n",
       "35782               tulungagung  \n",
       "35783                    Brasil  \n",
       "35784         Karachi, Pakistan  \n",
       "35785   Sydney, New South Wales  \n",
       "\n",
       "[35786 rows x 4 columns]"
      ]
     },
     "execution_count": 16,
     "metadata": {},
     "output_type": "execute_result"
    }
   ],
   "source": [
    "\n",
    "#The sole purpose of this function is to enclose the following, time-intensive code that needs a over 12\n",
    "#hours to complete, in order to be able to run this analysis top-to-bottom in a reasonable amount of time,\n",
    "#the code can be run at any time by uncommenting the call below(indicated with ********* (asterisks)), The result \n",
    "#of this computation can be retrieved at any time by reading the file retweetMap.csv\n",
    "\n",
    "def getAllAvailableReTweets():\n",
    "    tweets_retweeters= pd.DataFrame(columns=['tweet_id','retweeter_id','retweeter_location'])\n",
    "    while(True):\n",
    "        every_influencer_tweet = next(iterator)\n",
    "        try:\n",
    "            time.sleep(15) #Time delay to avoid quota\n",
    "            retweeters = list(client.get_retweeters(every_influencer_tweet,user_fields=['location']).data)\n",
    "            instances=len(retweeters)\n",
    "            ids = (map(lambda x:x.id,retweeters))\n",
    "            locations = (map(lambda x:x.location,retweeters))\n",
    "            tweets_retweeters_current = pd.DataFrame({\n",
    "                'tweet_id':[every_influencer_tweet]*instances,\n",
    "                'retweeter_id':ids,\n",
    "                'retweeter_location':locations})\n",
    "            tweets_retweeters=tweets_retweeters.append(tweets_retweeters_current)\n",
    "            tweets_retweeters.to_csv(\"retweetMap.csv\",index=False)\n",
    "            print(tweets_retweeters_current)\n",
    "        except Exception as e:\n",
    "            print(\"Ignoring error, probably quota limit, continue\"+str(e))\n",
    "            time.sleep(10) #Further time delay to avoid quota limit \n",
    "\n",
    "\n",
    "#getAllAvailableReTweets()*********\n",
    "#Checkpoint 3\n",
    "retweets = pd.read_csv(\"retweetMap.csv\",dtype = {'tweet_id':str,'retweeter_id':str,'retweeter_location':str})\n",
    "retweets"
   ]
  },
  {
   "cell_type": "markdown",
   "id": "de3eae84",
   "metadata": {},
   "source": [
    "## Convert vague locations into real countries"
   ]
  },
  {
   "cell_type": "code",
   "execution_count": 17,
   "id": "9fb62e93",
   "metadata": {},
   "outputs": [],
   "source": [
    "#Loading from Checkpoint 3\n",
    "tweets =pd.read_csv(\"tweetMap.csv\",dtype = {'user_id':str,'tweet_id':str})\n",
    "retweets = pd.read_csv(\"retweetMap.csv\",dtype = {'tweet_id':str,'retweeter_id':str,'retweeter_location':str})"
   ]
  },
  {
   "cell_type": "code",
   "execution_count": 18,
   "id": "9fba1d6c",
   "metadata": {},
   "outputs": [
    {
     "data": {
      "text/html": [
       "<div>\n",
       "<style scoped>\n",
       "    .dataframe tbody tr th:only-of-type {\n",
       "        vertical-align: middle;\n",
       "    }\n",
       "\n",
       "    .dataframe tbody tr th {\n",
       "        vertical-align: top;\n",
       "    }\n",
       "\n",
       "    .dataframe thead th {\n",
       "        text-align: right;\n",
       "    }\n",
       "</style>\n",
       "<table border=\"1\" class=\"dataframe\">\n",
       "  <thead>\n",
       "    <tr style=\"text-align: right;\">\n",
       "      <th></th>\n",
       "      <th>Unnamed: 0</th>\n",
       "      <th>tweet_id</th>\n",
       "      <th>retweeter_id</th>\n",
       "      <th>retweeter_location</th>\n",
       "    </tr>\n",
       "  </thead>\n",
       "  <tbody>\n",
       "    <tr>\n",
       "      <th>0</th>\n",
       "      <td>0</td>\n",
       "      <td>1461380998743015425</td>\n",
       "      <td>861629679886880768</td>\n",
       "      <td>Dallas, TX</td>\n",
       "    </tr>\n",
       "    <tr>\n",
       "      <th>1</th>\n",
       "      <td>1</td>\n",
       "      <td>1461380998743015425</td>\n",
       "      <td>1034572631025098754</td>\n",
       "      <td>El Mundo</td>\n",
       "    </tr>\n",
       "    <tr>\n",
       "      <th>2</th>\n",
       "      <td>2</td>\n",
       "      <td>1461380998743015425</td>\n",
       "      <td>1425487033309581314</td>\n",
       "      <td>Bristol  🇪🇺 🇬🇧</td>\n",
       "    </tr>\n",
       "    <tr>\n",
       "      <th>3</th>\n",
       "      <td>3</td>\n",
       "      <td>1461380998743015425</td>\n",
       "      <td>1409329636954148869</td>\n",
       "      <td>Surrey, British Columbia</td>\n",
       "    </tr>\n",
       "    <tr>\n",
       "      <th>4</th>\n",
       "      <td>4</td>\n",
       "      <td>1461380998743015425</td>\n",
       "      <td>10221</td>\n",
       "      <td>philly</td>\n",
       "    </tr>\n",
       "    <tr>\n",
       "      <th>...</th>\n",
       "      <td>...</td>\n",
       "      <td>...</td>\n",
       "      <td>...</td>\n",
       "      <td>...</td>\n",
       "    </tr>\n",
       "    <tr>\n",
       "      <th>35781</th>\n",
       "      <td>39414</td>\n",
       "      <td>1415752955152666627</td>\n",
       "      <td>1412392837916864514</td>\n",
       "      <td>bead.99@icloud.com</td>\n",
       "    </tr>\n",
       "    <tr>\n",
       "      <th>35782</th>\n",
       "      <td>39415</td>\n",
       "      <td>1415752955152666627</td>\n",
       "      <td>2399137929</td>\n",
       "      <td>tulungagung</td>\n",
       "    </tr>\n",
       "    <tr>\n",
       "      <th>35783</th>\n",
       "      <td>39416</td>\n",
       "      <td>1415752955152666627</td>\n",
       "      <td>113410319</td>\n",
       "      <td>Brasil</td>\n",
       "    </tr>\n",
       "    <tr>\n",
       "      <th>35784</th>\n",
       "      <td>39417</td>\n",
       "      <td>1415752955152666627</td>\n",
       "      <td>751724810640785408</td>\n",
       "      <td>Karachi, Pakistan</td>\n",
       "    </tr>\n",
       "    <tr>\n",
       "      <th>35785</th>\n",
       "      <td>39418</td>\n",
       "      <td>1415752955152666627</td>\n",
       "      <td>200503070</td>\n",
       "      <td>Sydney, New South Wales</td>\n",
       "    </tr>\n",
       "  </tbody>\n",
       "</table>\n",
       "<p>35786 rows × 4 columns</p>\n",
       "</div>"
      ],
      "text/plain": [
       "       Unnamed: 0             tweet_id         retweeter_id  \\\n",
       "0               0  1461380998743015425   861629679886880768   \n",
       "1               1  1461380998743015425  1034572631025098754   \n",
       "2               2  1461380998743015425  1425487033309581314   \n",
       "3               3  1461380998743015425  1409329636954148869   \n",
       "4               4  1461380998743015425                10221   \n",
       "...           ...                  ...                  ...   \n",
       "35781       39414  1415752955152666627  1412392837916864514   \n",
       "35782       39415  1415752955152666627           2399137929   \n",
       "35783       39416  1415752955152666627            113410319   \n",
       "35784       39417  1415752955152666627   751724810640785408   \n",
       "35785       39418  1415752955152666627            200503070   \n",
       "\n",
       "             retweeter_location  \n",
       "0                    Dallas, TX  \n",
       "1                      El Mundo  \n",
       "2                Bristol  🇪🇺 🇬🇧  \n",
       "3      Surrey, British Columbia  \n",
       "4                        philly  \n",
       "...                         ...  \n",
       "35781        bead.99@icloud.com  \n",
       "35782               tulungagung  \n",
       "35783                    Brasil  \n",
       "35784         Karachi, Pakistan  \n",
       "35785   Sydney, New South Wales  \n",
       "\n",
       "[35786 rows x 4 columns]"
      ]
     },
     "execution_count": 18,
     "metadata": {},
     "output_type": "execute_result"
    }
   ],
   "source": [
    "#Eliminate entries with unknown location\n",
    "retweets['retweeter_location']=retweets['retweeter_location'].map(lambda x:str(x))\n",
    "retweets=retweets.loc[retweets['retweeter_location']!='nan']\n",
    "retweets"
   ]
  },
  {
   "cell_type": "markdown",
   "id": "a0983975",
   "metadata": {},
   "source": [
    "Any attempt to analyse the area of influence for the given account will be in vain, if we don't have standardized Data points for locations, the Location field of Twitter seems to be an non-validated field that accepts invalid locations"
   ]
  },
  {
   "cell_type": "code",
   "execution_count": 19,
   "id": "0c32e3f6",
   "metadata": {},
   "outputs": [
    {
     "data": {
      "text/html": [
       "<div>\n",
       "<style scoped>\n",
       "    .dataframe tbody tr th:only-of-type {\n",
       "        vertical-align: middle;\n",
       "    }\n",
       "\n",
       "    .dataframe tbody tr th {\n",
       "        vertical-align: top;\n",
       "    }\n",
       "\n",
       "    .dataframe thead th {\n",
       "        text-align: right;\n",
       "    }\n",
       "</style>\n",
       "<table border=\"1\" class=\"dataframe\">\n",
       "  <thead>\n",
       "    <tr style=\"text-align: right;\">\n",
       "      <th></th>\n",
       "      <th>Unnamed: 0</th>\n",
       "      <th>tweet_id</th>\n",
       "      <th>retweeter_id</th>\n",
       "      <th>retweeter_location</th>\n",
       "    </tr>\n",
       "  </thead>\n",
       "  <tbody>\n",
       "    <tr>\n",
       "      <th>6013</th>\n",
       "      <td>6013</td>\n",
       "      <td>1380231432006631425</td>\n",
       "      <td>1253442333334548482</td>\n",
       "      <td>Saving the world</td>\n",
       "    </tr>\n",
       "    <tr>\n",
       "      <th>6815</th>\n",
       "      <td>6815</td>\n",
       "      <td>1367519920393654274</td>\n",
       "      <td>1253442333334548482</td>\n",
       "      <td>Saving the world</td>\n",
       "    </tr>\n",
       "  </tbody>\n",
       "</table>\n",
       "</div>"
      ],
      "text/plain": [
       "      Unnamed: 0             tweet_id         retweeter_id retweeter_location\n",
       "6013        6013  1380231432006631425  1253442333334548482  Saving the world \n",
       "6815        6815  1367519920393654274  1253442333334548482  Saving the world "
      ]
     },
     "execution_count": 19,
     "metadata": {},
     "output_type": "execute_result"
    }
   ],
   "source": [
    "retweets.loc[retweets['retweeter_id']=='1253442333334548482']"
   ]
  },
  {
   "cell_type": "markdown",
   "id": "e6ebae0b",
   "metadata": {},
   "source": [
    "We need a process of converting these unreliable data points into standard countries if possible and discarding the rest, The following is the algorithm to perform such a task"
   ]
  },
  {
   "cell_type": "markdown",
   "id": "178ed556",
   "metadata": {},
   "source": [
    "To construct such an algorithm, we will perform string matching on the data points, trying to extract names of cities, areas or states, finding the country that contains the city/state in question. Given the fact of multiple cities around the world that share similar names, we will assign on each finding a weight proportional to the population of the country in question."
   ]
  },
  {
   "cell_type": "code",
   "execution_count": 20,
   "id": "f38af436",
   "metadata": {},
   "outputs": [
    {
     "data": {
      "text/html": [
       "<div>\n",
       "<style scoped>\n",
       "    .dataframe tbody tr th:only-of-type {\n",
       "        vertical-align: middle;\n",
       "    }\n",
       "\n",
       "    .dataframe tbody tr th {\n",
       "        vertical-align: top;\n",
       "    }\n",
       "\n",
       "    .dataframe thead th {\n",
       "        text-align: right;\n",
       "    }\n",
       "</style>\n",
       "<table border=\"1\" class=\"dataframe\">\n",
       "  <thead>\n",
       "    <tr style=\"text-align: right;\">\n",
       "      <th></th>\n",
       "      <th>#</th>\n",
       "      <th>country_name</th>\n",
       "      <th>state_name</th>\n",
       "      <th>city_name</th>\n",
       "    </tr>\n",
       "  </thead>\n",
       "  <tbody>\n",
       "    <tr>\n",
       "      <th>0</th>\n",
       "      <td>1</td>\n",
       "      <td>Afghanistan</td>\n",
       "      <td>Ghazni</td>\n",
       "      <td>Ghazni</td>\n",
       "    </tr>\n",
       "    <tr>\n",
       "      <th>1</th>\n",
       "      <td>2</td>\n",
       "      <td>Afghanistan</td>\n",
       "      <td>Badghis</td>\n",
       "      <td>Ghormach</td>\n",
       "    </tr>\n",
       "    <tr>\n",
       "      <th>2</th>\n",
       "      <td>3</td>\n",
       "      <td>Afghanistan</td>\n",
       "      <td>Badghis</td>\n",
       "      <td>Qala i Naw</td>\n",
       "    </tr>\n",
       "    <tr>\n",
       "      <th>3</th>\n",
       "      <td>4</td>\n",
       "      <td>Afghanistan</td>\n",
       "      <td>Bamyan</td>\n",
       "      <td>Bāmyān</td>\n",
       "    </tr>\n",
       "    <tr>\n",
       "      <th>4</th>\n",
       "      <td>5</td>\n",
       "      <td>Afghanistan</td>\n",
       "      <td>Bamyan</td>\n",
       "      <td>Panjāb</td>\n",
       "    </tr>\n",
       "    <tr>\n",
       "      <th>...</th>\n",
       "      <td>...</td>\n",
       "      <td>...</td>\n",
       "      <td>...</td>\n",
       "      <td>...</td>\n",
       "    </tr>\n",
       "    <tr>\n",
       "      <th>147961</th>\n",
       "      <td>147962</td>\n",
       "      <td>Zimbabwe</td>\n",
       "      <td>Masvingo Province</td>\n",
       "      <td>Mashava</td>\n",
       "    </tr>\n",
       "    <tr>\n",
       "      <th>147962</th>\n",
       "      <td>147963</td>\n",
       "      <td>Zimbabwe</td>\n",
       "      <td>Masvingo Province</td>\n",
       "      <td>Masvingo</td>\n",
       "    </tr>\n",
       "    <tr>\n",
       "      <th>147963</th>\n",
       "      <td>147964</td>\n",
       "      <td>Zimbabwe</td>\n",
       "      <td>Masvingo Province</td>\n",
       "      <td>Masvingo District</td>\n",
       "    </tr>\n",
       "    <tr>\n",
       "      <th>147964</th>\n",
       "      <td>147965</td>\n",
       "      <td>Zimbabwe</td>\n",
       "      <td>Masvingo Province</td>\n",
       "      <td>Mwenezi District</td>\n",
       "    </tr>\n",
       "    <tr>\n",
       "      <th>147965</th>\n",
       "      <td>147966</td>\n",
       "      <td>Zimbabwe</td>\n",
       "      <td>Masvingo Province</td>\n",
       "      <td>Zvishavane</td>\n",
       "    </tr>\n",
       "  </tbody>\n",
       "</table>\n",
       "<p>147966 rows × 4 columns</p>\n",
       "</div>"
      ],
      "text/plain": [
       "             # country_name         state_name          city_name\n",
       "0            1  Afghanistan             Ghazni             Ghazni\n",
       "1            2  Afghanistan            Badghis           Ghormach\n",
       "2            3  Afghanistan            Badghis         Qala i Naw\n",
       "3            4  Afghanistan             Bamyan             Bāmyān\n",
       "4            5  Afghanistan             Bamyan             Panjāb\n",
       "...        ...          ...                ...                ...\n",
       "147961  147962     Zimbabwe  Masvingo Province            Mashava\n",
       "147962  147963     Zimbabwe  Masvingo Province           Masvingo\n",
       "147963  147964     Zimbabwe  Masvingo Province  Masvingo District\n",
       "147964  147965     Zimbabwe  Masvingo Province   Mwenezi District\n",
       "147965  147966     Zimbabwe  Masvingo Province         Zvishavane\n",
       "\n",
       "[147966 rows x 4 columns]"
      ]
     },
     "execution_count": 20,
     "metadata": {},
     "output_type": "execute_result"
    }
   ],
   "source": [
    "#Csv Containing ~150k datapoints, of towns and their states/countries\n",
    "#The data, originally as a .sql file, taken from the following Github project \n",
    "#https://github.com/dr5hn/countries-states-cities-database\n",
    "#And exported to .csv using a custom script and a JOIN statement\n",
    "world = pd.read_csv(\"places_of_the_world.csv\") \n",
    "world"
   ]
  },
  {
   "cell_type": "code",
   "execution_count": 34,
   "id": "1228a3e8",
   "metadata": {},
   "outputs": [
    {
     "data": {
      "text/html": [
       "<div>\n",
       "<style scoped>\n",
       "    .dataframe tbody tr th:only-of-type {\n",
       "        vertical-align: middle;\n",
       "    }\n",
       "\n",
       "    .dataframe tbody tr th {\n",
       "        vertical-align: top;\n",
       "    }\n",
       "\n",
       "    .dataframe thead th {\n",
       "        text-align: right;\n",
       "    }\n",
       "</style>\n",
       "<table border=\"1\" class=\"dataframe\">\n",
       "  <thead>\n",
       "    <tr style=\"text-align: right;\">\n",
       "      <th></th>\n",
       "      <th>Country (or dependency)</th>\n",
       "      <th>Population (2020)</th>\n",
       "    </tr>\n",
       "  </thead>\n",
       "  <tbody>\n",
       "    <tr>\n",
       "      <th>0</th>\n",
       "      <td>China</td>\n",
       "      <td>1439323776</td>\n",
       "    </tr>\n",
       "    <tr>\n",
       "      <th>1</th>\n",
       "      <td>India</td>\n",
       "      <td>1380004385</td>\n",
       "    </tr>\n",
       "    <tr>\n",
       "      <th>2</th>\n",
       "      <td>United States</td>\n",
       "      <td>331002651</td>\n",
       "    </tr>\n",
       "    <tr>\n",
       "      <th>3</th>\n",
       "      <td>Indonesia</td>\n",
       "      <td>273523615</td>\n",
       "    </tr>\n",
       "    <tr>\n",
       "      <th>4</th>\n",
       "      <td>Pakistan</td>\n",
       "      <td>220892340</td>\n",
       "    </tr>\n",
       "    <tr>\n",
       "      <th>...</th>\n",
       "      <td>...</td>\n",
       "      <td>...</td>\n",
       "    </tr>\n",
       "    <tr>\n",
       "      <th>230</th>\n",
       "      <td>Montserrat</td>\n",
       "      <td>4992</td>\n",
       "    </tr>\n",
       "    <tr>\n",
       "      <th>231</th>\n",
       "      <td>Falkland Islands</td>\n",
       "      <td>3480</td>\n",
       "    </tr>\n",
       "    <tr>\n",
       "      <th>232</th>\n",
       "      <td>Niue</td>\n",
       "      <td>1626</td>\n",
       "    </tr>\n",
       "    <tr>\n",
       "      <th>233</th>\n",
       "      <td>Tokelau</td>\n",
       "      <td>1357</td>\n",
       "    </tr>\n",
       "    <tr>\n",
       "      <th>234</th>\n",
       "      <td>Holy See</td>\n",
       "      <td>801</td>\n",
       "    </tr>\n",
       "  </tbody>\n",
       "</table>\n",
       "<p>235 rows × 2 columns</p>\n",
       "</div>"
      ],
      "text/plain": [
       "    Country (or dependency)  Population (2020)\n",
       "0                     China         1439323776\n",
       "1                     India         1380004385\n",
       "2             United States          331002651\n",
       "3                 Indonesia          273523615\n",
       "4                  Pakistan          220892340\n",
       "..                      ...                ...\n",
       "230              Montserrat               4992\n",
       "231        Falkland Islands               3480\n",
       "232                    Niue               1626\n",
       "233                 Tokelau               1357\n",
       "234                Holy See                801\n",
       "\n",
       "[235 rows x 2 columns]"
      ]
     },
     "execution_count": 34,
     "metadata": {},
     "output_type": "execute_result"
    }
   ],
   "source": [
    "#Saved Html page, containing the population of each country in question\n",
    "#Original URL : https://www.worldometers.info/world-population/population-by-country/\n",
    "populations = pd.read_html('../populations/populations.html')[0]\n",
    "populations=populations[['Country (or dependency)','Population (2020)']]\n",
    "populations"
   ]
  },
  {
   "cell_type": "code",
   "execution_count": 22,
   "id": "7e373d13",
   "metadata": {},
   "outputs": [],
   "source": [
    "def getCountryWeight(country:str):\n",
    "    \"\"\"\n",
    "    This simple function calculates and returns the weight of each country by searching on the \n",
    "    aforementioned countries table\n",
    "    \"\"\"\n",
    "    try:\n",
    "        populationOfCountry = populations.loc[populations['Country (or dependency)']==country]\n",
    "        return int(populationOfCountry['Population (2020)'])\n",
    "    except:\n",
    "        return 0"
   ]
  },
  {
   "cell_type": "code",
   "execution_count": 23,
   "id": "7623b1fb",
   "metadata": {},
   "outputs": [],
   "source": [
    "def translateToCountry(vagueLocation,world):\n",
    "    \"\"\"\n",
    "    This simple function is the core of our translation. Splits the vague location in question into smaller \n",
    "    tokens (given some criteria, see below) and searches for occurrences of those tokens in the \n",
    "    places_of_the_world.csv. If multiple occurrences are found, it assigns a weight on each and returns the one with\n",
    "    the biggest weight, or 'None' if there is no hit. The code is quite slow (O^2) and ideally, the search should be\n",
    "    performed using some sort of a hashmap for better results, but given the time constraints, it wasn't possible to find \n",
    "    a faster solution, but a faster solution is possible\n",
    "    \"\"\"\n",
    "\n",
    "    #Step one, split location into tokens\n",
    "    if(\",\" in vagueLocation):\n",
    "        #Some locations is like 'Chinatown, New York' , containing comma\n",
    "        elements=list(map(lambda x:x.strip().lower(),vagueLocation.split(\",\")))\n",
    "    elif(\"_\" in vagueLocation):\n",
    "        #Some other locations, containing underscore\n",
    "        elements=list(map(lambda x:x.strip().lower(),vagueLocation.split(\"_\")))\n",
    "    else:\n",
    "        #If none of the aforementioned exist, then split by empty character\n",
    "        #If the location does not contain any of the following (' ',',','_') then\n",
    "        #A single-token-list will be produced (i.e 'Canada' = ['Canada'])\n",
    "        elements=list(filter(lambda x:len(x)>1,vagueLocation.split(\" \")))\n",
    "        elements=list(map(lambda x:x.lower(),elements))\n",
    "        \n",
    "    #If Empty, short-circut\n",
    "    if(len(elements)==0):\n",
    "        return 'None'\n",
    "        \n",
    "    \n",
    "    countries=[] #List to be populated with pairs of [country_found,weight_of_country_found]\n",
    "    for index,row in world.iterrows():\n",
    "        \n",
    "        #if Country name or State name exists, the short_circut and return the country\n",
    "        if(row['country_name'].lower() in elements or row['state_name'].lower() in elements):\n",
    "            return row['country_name']\n",
    "        #If city name found, add the country name that belongs to to the countries list\n",
    "        elif(row['city_name'].lower() in elements):\n",
    "            countries.append((row['country_name'],getCountryWeight(row['country_name'])))\n",
    "            \n",
    "    #sort the countries based on the weight, the biggest is not on top\n",
    "    countries.sort(reverse=True,key=lambda x:x[1])\n",
    "    \n",
    "    #If not hits found, return none, otherwise return the country with the biggest weight\n",
    "    if(len(countries)==0):\n",
    "        return 'None'\n",
    "    return(countries[0][0])\n",
    "\n",
    "def passAndPrint(vague):\n",
    "    \"\"\"\n",
    "    Simple function that used for logging during the computation\n",
    "    \"\"\"\n",
    "    ans=translateToCountry(vague,world)\n",
    "    print(\"vague \"+str(vague)+\" = true \"+str(ans))\n",
    "    return ans"
   ]
  },
  {
   "cell_type": "code",
   "execution_count": 24,
   "id": "6768ff3b",
   "metadata": {},
   "outputs": [
    {
     "data": {
      "text/html": [
       "<div>\n",
       "<style scoped>\n",
       "    .dataframe tbody tr th:only-of-type {\n",
       "        vertical-align: middle;\n",
       "    }\n",
       "\n",
       "    .dataframe tbody tr th {\n",
       "        vertical-align: top;\n",
       "    }\n",
       "\n",
       "    .dataframe thead th {\n",
       "        text-align: right;\n",
       "    }\n",
       "</style>\n",
       "<table border=\"1\" class=\"dataframe\">\n",
       "  <thead>\n",
       "    <tr style=\"text-align: right;\">\n",
       "      <th></th>\n",
       "      <th>Unnamed: 0</th>\n",
       "      <th>tweet_id</th>\n",
       "      <th>retweeter_id</th>\n",
       "      <th>retweeter_location</th>\n",
       "    </tr>\n",
       "  </thead>\n",
       "  <tbody>\n",
       "    <tr>\n",
       "      <th>0</th>\n",
       "      <td>0</td>\n",
       "      <td>1461380998743015425</td>\n",
       "      <td>861629679886880768</td>\n",
       "      <td>United States</td>\n",
       "    </tr>\n",
       "    <tr>\n",
       "      <th>1</th>\n",
       "      <td>1</td>\n",
       "      <td>1461380998743015425</td>\n",
       "      <td>1034572631025098754</td>\n",
       "      <td>None</td>\n",
       "    </tr>\n",
       "    <tr>\n",
       "      <th>2</th>\n",
       "      <td>2</td>\n",
       "      <td>1461380998743015425</td>\n",
       "      <td>1425487033309581314</td>\n",
       "      <td>United States</td>\n",
       "    </tr>\n",
       "    <tr>\n",
       "      <th>3</th>\n",
       "      <td>3</td>\n",
       "      <td>1461380998743015425</td>\n",
       "      <td>1409329636954148869</td>\n",
       "      <td>Canada</td>\n",
       "    </tr>\n",
       "    <tr>\n",
       "      <th>4</th>\n",
       "      <td>4</td>\n",
       "      <td>1461380998743015425</td>\n",
       "      <td>10221</td>\n",
       "      <td>None</td>\n",
       "    </tr>\n",
       "    <tr>\n",
       "      <th>...</th>\n",
       "      <td>...</td>\n",
       "      <td>...</td>\n",
       "      <td>...</td>\n",
       "      <td>...</td>\n",
       "    </tr>\n",
       "    <tr>\n",
       "      <th>35781</th>\n",
       "      <td>39414</td>\n",
       "      <td>1415752955152666627</td>\n",
       "      <td>1412392837916864514</td>\n",
       "      <td>None</td>\n",
       "    </tr>\n",
       "    <tr>\n",
       "      <th>35782</th>\n",
       "      <td>39415</td>\n",
       "      <td>1415752955152666627</td>\n",
       "      <td>2399137929</td>\n",
       "      <td>Indonesia</td>\n",
       "    </tr>\n",
       "    <tr>\n",
       "      <th>35783</th>\n",
       "      <td>39416</td>\n",
       "      <td>1415752955152666627</td>\n",
       "      <td>113410319</td>\n",
       "      <td>None</td>\n",
       "    </tr>\n",
       "    <tr>\n",
       "      <th>35784</th>\n",
       "      <td>39417</td>\n",
       "      <td>1415752955152666627</td>\n",
       "      <td>751724810640785408</td>\n",
       "      <td>Pakistan</td>\n",
       "    </tr>\n",
       "    <tr>\n",
       "      <th>35785</th>\n",
       "      <td>39418</td>\n",
       "      <td>1415752955152666627</td>\n",
       "      <td>200503070</td>\n",
       "      <td>Australia</td>\n",
       "    </tr>\n",
       "  </tbody>\n",
       "</table>\n",
       "<p>35786 rows × 4 columns</p>\n",
       "</div>"
      ],
      "text/plain": [
       "       Unnamed: 0             tweet_id         retweeter_id retweeter_location\n",
       "0               0  1461380998743015425   861629679886880768      United States\n",
       "1               1  1461380998743015425  1034572631025098754               None\n",
       "2               2  1461380998743015425  1425487033309581314      United States\n",
       "3               3  1461380998743015425  1409329636954148869             Canada\n",
       "4               4  1461380998743015425                10221               None\n",
       "...           ...                  ...                  ...                ...\n",
       "35781       39414  1415752955152666627  1412392837916864514               None\n",
       "35782       39415  1415752955152666627           2399137929          Indonesia\n",
       "35783       39416  1415752955152666627            113410319               None\n",
       "35784       39417  1415752955152666627   751724810640785408           Pakistan\n",
       "35785       39418  1415752955152666627            200503070          Australia\n",
       "\n",
       "[35786 rows x 4 columns]"
      ]
     },
     "execution_count": 24,
     "metadata": {},
     "output_type": "execute_result"
    }
   ],
   "source": [
    "#The sole purpose of this function is to enclose the following, time-intensive code that needs a over 12\n",
    "#hours to complete, in order to be able to run this analysis top-to-bottom in a reasonable amount of time,\n",
    "#the code can be run at any time by uncommenting the call below(indicated with ********* (asterisks)), The result \n",
    "#of this computation can be retrieved at any time by reading the file retweetsMapRealLocations.csv\n",
    "\n",
    "def convertVagueLocationsToCountries():\n",
    "    \"\"\"\n",
    "    This function \n",
    "    \"\"\"\n",
    "    retweets['retweeter_location']=retweets['retweeter_location'].map(lambda x:passAndPrint(x))\n",
    "    retweets.to_csv(\"retweetsMapRealLocations.csv\",index=False)\n",
    "    \n",
    "\n",
    "#convertVagueLocationsToCountries()*********\n",
    "\n",
    "#Checkpoint 4\n",
    "retweetsMapRealLocations=pd.read_csv(\"retweetsMapRealLocations.csv\",dtype = {'tweet_id':str,'retweeter_id':str,'retweeter_location':str})\n",
    "retweetsMapRealLocations"
   ]
  },
  {
   "cell_type": "code",
   "execution_count": 25,
   "id": "dcee5c45",
   "metadata": {},
   "outputs": [
    {
     "data": {
      "text/html": [
       "<div>\n",
       "<style scoped>\n",
       "    .dataframe tbody tr th:only-of-type {\n",
       "        vertical-align: middle;\n",
       "    }\n",
       "\n",
       "    .dataframe tbody tr th {\n",
       "        vertical-align: top;\n",
       "    }\n",
       "\n",
       "    .dataframe thead th {\n",
       "        text-align: right;\n",
       "    }\n",
       "</style>\n",
       "<table border=\"1\" class=\"dataframe\">\n",
       "  <thead>\n",
       "    <tr style=\"text-align: right;\">\n",
       "      <th></th>\n",
       "      <th>Unnamed: 0</th>\n",
       "      <th>tweet_id</th>\n",
       "      <th>retweeter_id</th>\n",
       "      <th>retweeter_location</th>\n",
       "    </tr>\n",
       "  </thead>\n",
       "  <tbody>\n",
       "    <tr>\n",
       "      <th>0</th>\n",
       "      <td>0</td>\n",
       "      <td>1461380998743015425</td>\n",
       "      <td>861629679886880768</td>\n",
       "      <td>United States</td>\n",
       "    </tr>\n",
       "    <tr>\n",
       "      <th>2</th>\n",
       "      <td>2</td>\n",
       "      <td>1461380998743015425</td>\n",
       "      <td>1425487033309581314</td>\n",
       "      <td>United States</td>\n",
       "    </tr>\n",
       "    <tr>\n",
       "      <th>3</th>\n",
       "      <td>3</td>\n",
       "      <td>1461380998743015425</td>\n",
       "      <td>1409329636954148869</td>\n",
       "      <td>Canada</td>\n",
       "    </tr>\n",
       "    <tr>\n",
       "      <th>5</th>\n",
       "      <td>5</td>\n",
       "      <td>1461380998743015425</td>\n",
       "      <td>1053386113199603712</td>\n",
       "      <td>Brazil</td>\n",
       "    </tr>\n",
       "    <tr>\n",
       "      <th>6</th>\n",
       "      <td>6</td>\n",
       "      <td>1461380998743015425</td>\n",
       "      <td>38105260</td>\n",
       "      <td>Australia</td>\n",
       "    </tr>\n",
       "    <tr>\n",
       "      <th>...</th>\n",
       "      <td>...</td>\n",
       "      <td>...</td>\n",
       "      <td>...</td>\n",
       "      <td>...</td>\n",
       "    </tr>\n",
       "    <tr>\n",
       "      <th>35778</th>\n",
       "      <td>39411</td>\n",
       "      <td>1415752955152666627</td>\n",
       "      <td>984581120271331329</td>\n",
       "      <td>Australia</td>\n",
       "    </tr>\n",
       "    <tr>\n",
       "      <th>35779</th>\n",
       "      <td>39412</td>\n",
       "      <td>1415752955152666627</td>\n",
       "      <td>172579237</td>\n",
       "      <td>India</td>\n",
       "    </tr>\n",
       "    <tr>\n",
       "      <th>35782</th>\n",
       "      <td>39415</td>\n",
       "      <td>1415752955152666627</td>\n",
       "      <td>2399137929</td>\n",
       "      <td>Indonesia</td>\n",
       "    </tr>\n",
       "    <tr>\n",
       "      <th>35784</th>\n",
       "      <td>39417</td>\n",
       "      <td>1415752955152666627</td>\n",
       "      <td>751724810640785408</td>\n",
       "      <td>Pakistan</td>\n",
       "    </tr>\n",
       "    <tr>\n",
       "      <th>35785</th>\n",
       "      <td>39418</td>\n",
       "      <td>1415752955152666627</td>\n",
       "      <td>200503070</td>\n",
       "      <td>Australia</td>\n",
       "    </tr>\n",
       "  </tbody>\n",
       "</table>\n",
       "<p>26495 rows × 4 columns</p>\n",
       "</div>"
      ],
      "text/plain": [
       "       Unnamed: 0             tweet_id         retweeter_id retweeter_location\n",
       "0               0  1461380998743015425   861629679886880768      United States\n",
       "2               2  1461380998743015425  1425487033309581314      United States\n",
       "3               3  1461380998743015425  1409329636954148869             Canada\n",
       "5               5  1461380998743015425  1053386113199603712             Brazil\n",
       "6               6  1461380998743015425             38105260          Australia\n",
       "...           ...                  ...                  ...                ...\n",
       "35778       39411  1415752955152666627   984581120271331329          Australia\n",
       "35779       39412  1415752955152666627            172579237              India\n",
       "35782       39415  1415752955152666627           2399137929          Indonesia\n",
       "35784       39417  1415752955152666627   751724810640785408           Pakistan\n",
       "35785       39418  1415752955152666627            200503070          Australia\n",
       "\n",
       "[26495 rows x 4 columns]"
      ]
     },
     "execution_count": 25,
     "metadata": {},
     "output_type": "execute_result"
    }
   ],
   "source": [
    "#Dropping all the datapoints that the previous algorithm failed to recognise and ascosiate with a real country\n",
    "retweetsMapRealLocationsDiscardNones=retweetsMapRealLocations.loc[retweetsMapRealLocations['retweeter_location']!='None']\n",
    "retweetsMapRealLocationsDiscardNones.to_csv(\"retweetsMapRealLocationsDiscardNones.csv\",index=False)\n",
    "retweetsMapRealLocationsDiscardNones"
   ]
  },
  {
   "cell_type": "markdown",
   "id": "c7dd280a",
   "metadata": {},
   "source": [
    "## Final Merging of the data"
   ]
  },
  {
   "cell_type": "markdown",
   "id": "97756938",
   "metadata": {},
   "source": [
    "We will now merge our acquired data into a unified DataFrame"
   ]
  },
  {
   "cell_type": "code",
   "execution_count": 26,
   "id": "334f81b6",
   "metadata": {},
   "outputs": [
    {
     "data": {
      "text/html": [
       "<div>\n",
       "<style scoped>\n",
       "    .dataframe tbody tr th:only-of-type {\n",
       "        vertical-align: middle;\n",
       "    }\n",
       "\n",
       "    .dataframe tbody tr th {\n",
       "        vertical-align: top;\n",
       "    }\n",
       "\n",
       "    .dataframe thead th {\n",
       "        text-align: right;\n",
       "    }\n",
       "</style>\n",
       "<table border=\"1\" class=\"dataframe\">\n",
       "  <thead>\n",
       "    <tr style=\"text-align: right;\">\n",
       "      <th></th>\n",
       "      <th>user_id</th>\n",
       "      <th>tweet_id</th>\n",
       "      <th>Unnamed: 0</th>\n",
       "      <th>retweeter_id</th>\n",
       "      <th>retweeter_location</th>\n",
       "    </tr>\n",
       "  </thead>\n",
       "  <tbody>\n",
       "    <tr>\n",
       "      <th>0</th>\n",
       "      <td>50393960</td>\n",
       "      <td>1461380998743015425</td>\n",
       "      <td>0</td>\n",
       "      <td>861629679886880768</td>\n",
       "      <td>United States</td>\n",
       "    </tr>\n",
       "    <tr>\n",
       "      <th>1</th>\n",
       "      <td>50393960</td>\n",
       "      <td>1461380998743015425</td>\n",
       "      <td>2</td>\n",
       "      <td>1425487033309581314</td>\n",
       "      <td>United States</td>\n",
       "    </tr>\n",
       "    <tr>\n",
       "      <th>2</th>\n",
       "      <td>50393960</td>\n",
       "      <td>1461380998743015425</td>\n",
       "      <td>3</td>\n",
       "      <td>1409329636954148869</td>\n",
       "      <td>Canada</td>\n",
       "    </tr>\n",
       "    <tr>\n",
       "      <th>3</th>\n",
       "      <td>50393960</td>\n",
       "      <td>1461380998743015425</td>\n",
       "      <td>5</td>\n",
       "      <td>1053386113199603712</td>\n",
       "      <td>Brazil</td>\n",
       "    </tr>\n",
       "    <tr>\n",
       "      <th>4</th>\n",
       "      <td>50393960</td>\n",
       "      <td>1461380998743015425</td>\n",
       "      <td>6</td>\n",
       "      <td>38105260</td>\n",
       "      <td>Australia</td>\n",
       "    </tr>\n",
       "    <tr>\n",
       "      <th>...</th>\n",
       "      <td>...</td>\n",
       "      <td>...</td>\n",
       "      <td>...</td>\n",
       "      <td>...</td>\n",
       "      <td>...</td>\n",
       "    </tr>\n",
       "    <tr>\n",
       "      <th>21922</th>\n",
       "      <td>15846407</td>\n",
       "      <td>1433188250940702721</td>\n",
       "      <td>34889</td>\n",
       "      <td>1260292359239036928</td>\n",
       "      <td>Taiwan</td>\n",
       "    </tr>\n",
       "    <tr>\n",
       "      <th>21923</th>\n",
       "      <td>15846407</td>\n",
       "      <td>1433188250940702721</td>\n",
       "      <td>34890</td>\n",
       "      <td>1226492046460014593</td>\n",
       "      <td>Canada</td>\n",
       "    </tr>\n",
       "    <tr>\n",
       "      <th>21924</th>\n",
       "      <td>15846407</td>\n",
       "      <td>1433188250940702721</td>\n",
       "      <td>34891</td>\n",
       "      <td>1337887775891337218</td>\n",
       "      <td>United States</td>\n",
       "    </tr>\n",
       "    <tr>\n",
       "      <th>21925</th>\n",
       "      <td>15846407</td>\n",
       "      <td>1433188250940702721</td>\n",
       "      <td>34892</td>\n",
       "      <td>820879792660762624</td>\n",
       "      <td>United States</td>\n",
       "    </tr>\n",
       "    <tr>\n",
       "      <th>21926</th>\n",
       "      <td>15846407</td>\n",
       "      <td>1433188250940702721</td>\n",
       "      <td>34893</td>\n",
       "      <td>39264553</td>\n",
       "      <td>United States</td>\n",
       "    </tr>\n",
       "  </tbody>\n",
       "</table>\n",
       "<p>21927 rows × 5 columns</p>\n",
       "</div>"
      ],
      "text/plain": [
       "        user_id             tweet_id  Unnamed: 0         retweeter_id  \\\n",
       "0      50393960  1461380998743015425           0   861629679886880768   \n",
       "1      50393960  1461380998743015425           2  1425487033309581314   \n",
       "2      50393960  1461380998743015425           3  1409329636954148869   \n",
       "3      50393960  1461380998743015425           5  1053386113199603712   \n",
       "4      50393960  1461380998743015425           6             38105260   \n",
       "...         ...                  ...         ...                  ...   \n",
       "21922  15846407  1433188250940702721       34889  1260292359239036928   \n",
       "21923  15846407  1433188250940702721       34890  1226492046460014593   \n",
       "21924  15846407  1433188250940702721       34891  1337887775891337218   \n",
       "21925  15846407  1433188250940702721       34892   820879792660762624   \n",
       "21926  15846407  1433188250940702721       34893             39264553   \n",
       "\n",
       "      retweeter_location  \n",
       "0          United States  \n",
       "1          United States  \n",
       "2                 Canada  \n",
       "3                 Brazil  \n",
       "4              Australia  \n",
       "...                  ...  \n",
       "21922             Taiwan  \n",
       "21923             Canada  \n",
       "21924      United States  \n",
       "21925      United States  \n",
       "21926      United States  \n",
       "\n",
       "[21927 rows x 5 columns]"
      ]
     },
     "execution_count": 26,
     "metadata": {},
     "output_type": "execute_result"
    }
   ],
   "source": [
    "\"\"\"\n",
    "Merge tweetMap with retweetsMapRealLocations\n",
    "plot\n",
    "\"\"\"\n",
    "combined=tweets.merge(retweetsMapRealLocationsDiscardNones,on=\"tweet_id\")\n",
    "bill = combined.loc[combined['user_id']==billId]\n",
    "elon = combined.loc[combined['user_id']==elonId]\n",
    "ellen= combined.loc[combined['user_id']==ellenId]\n",
    "countries = combined['retweeter_location'].unique()\n",
    "\n",
    "combined"
   ]
  },
  {
   "cell_type": "markdown",
   "id": "bd66f5d5",
   "metadata": {},
   "source": [
    "# [Stage 2] Visualisation of the Aquired Data\n"
   ]
  },
  {
   "cell_type": "markdown",
   "id": "1863c802",
   "metadata": {},
   "source": [
    "After acquiring all the necessary data, the time is come to start producing visualisations and getting an insight\n",
    "on the networks generated"
   ]
  },
  {
   "cell_type": "markdown",
   "id": "daa2ca75",
   "metadata": {},
   "source": [
    "## Account's Influence network analysis\n",
    "In this section we will use our data to investigate the topology of the influencer's retweeters networks, getting some useful insights on how ideas are spread on the Twitter community"
   ]
  },
  {
   "cell_type": "code",
   "execution_count": 27,
   "id": "e59a5b24",
   "metadata": {},
   "outputs": [
    {
     "data": {
      "text/html": [
       "<div>\n",
       "<style scoped>\n",
       "    .dataframe tbody tr th:only-of-type {\n",
       "        vertical-align: middle;\n",
       "    }\n",
       "\n",
       "    .dataframe tbody tr th {\n",
       "        vertical-align: top;\n",
       "    }\n",
       "\n",
       "    .dataframe thead th {\n",
       "        text-align: right;\n",
       "    }\n",
       "</style>\n",
       "<table border=\"1\" class=\"dataframe\">\n",
       "  <thead>\n",
       "    <tr style=\"text-align: right;\">\n",
       "      <th></th>\n",
       "      <th>retweeter_id</th>\n",
       "      <th>weight</th>\n",
       "    </tr>\n",
       "  </thead>\n",
       "  <tbody>\n",
       "    <tr>\n",
       "      <th>0</th>\n",
       "      <td>1000190726326685698</td>\n",
       "      <td>1</td>\n",
       "    </tr>\n",
       "    <tr>\n",
       "      <th>1</th>\n",
       "      <td>1000218707455553537</td>\n",
       "      <td>1</td>\n",
       "    </tr>\n",
       "    <tr>\n",
       "      <th>2</th>\n",
       "      <td>1000245113518309376</td>\n",
       "      <td>1</td>\n",
       "    </tr>\n",
       "    <tr>\n",
       "      <th>3</th>\n",
       "      <td>1000323282070056960</td>\n",
       "      <td>1</td>\n",
       "    </tr>\n",
       "    <tr>\n",
       "      <th>4</th>\n",
       "      <td>1000368846790770688</td>\n",
       "      <td>1</td>\n",
       "    </tr>\n",
       "    <tr>\n",
       "      <th>...</th>\n",
       "      <td>...</td>\n",
       "      <td>...</td>\n",
       "    </tr>\n",
       "    <tr>\n",
       "      <th>13039</th>\n",
       "      <td>999514335423561728</td>\n",
       "      <td>4</td>\n",
       "    </tr>\n",
       "    <tr>\n",
       "      <th>13040</th>\n",
       "      <td>99959293</td>\n",
       "      <td>1</td>\n",
       "    </tr>\n",
       "    <tr>\n",
       "      <th>13041</th>\n",
       "      <td>999647495423639552</td>\n",
       "      <td>1</td>\n",
       "    </tr>\n",
       "    <tr>\n",
       "      <th>13042</th>\n",
       "      <td>999731945625006080</td>\n",
       "      <td>1</td>\n",
       "    </tr>\n",
       "    <tr>\n",
       "      <th>13043</th>\n",
       "      <td>999765192824238086</td>\n",
       "      <td>29</td>\n",
       "    </tr>\n",
       "  </tbody>\n",
       "</table>\n",
       "<p>13044 rows × 2 columns</p>\n",
       "</div>"
      ],
      "text/plain": [
       "              retweeter_id  weight\n",
       "0      1000190726326685698       1\n",
       "1      1000218707455553537       1\n",
       "2      1000245113518309376       1\n",
       "3      1000323282070056960       1\n",
       "4      1000368846790770688       1\n",
       "...                    ...     ...\n",
       "13039   999514335423561728       4\n",
       "13040             99959293       1\n",
       "13041   999647495423639552       1\n",
       "13042   999731945625006080       1\n",
       "13043   999765192824238086      29\n",
       "\n",
       "[13044 rows x 2 columns]"
      ]
     },
     "execution_count": 27,
     "metadata": {},
     "output_type": "execute_result"
    }
   ],
   "source": [
    "#Calculation of the weight of each influencer. Each influencer's weight is proportional to the amount of the retweets\n",
    "#on the given account. If x has retweeted 16 bill gates tweets their weight will be 16.\n",
    "weights=retweetsMapRealLocationsDiscardNones.groupby(by=[\"retweeter_id\"]).size().reset_index()\n",
    "weights['weight']=weights[0]\n",
    "del weights[0]\n",
    "weights"
   ]
  },
  {
   "cell_type": "code",
   "execution_count": 28,
   "id": "31eaf203",
   "metadata": {},
   "outputs": [],
   "source": [
    "#Creation of the edge list\n",
    "RetweeterDensityEdgeList = pd.DataFrame({'user_id':combined['user_id'],'retweeter_id':combined['retweeter_id']})\n",
    "RetweeterDensityEdgeList=RetweeterDensityEdgeList.merge(weights,on='retweeter_id')"
   ]
  },
  {
   "cell_type": "code",
   "execution_count": 29,
   "id": "32538462",
   "metadata": {},
   "outputs": [
    {
     "data": {
      "text/html": [
       "<div>\n",
       "<style scoped>\n",
       "    .dataframe tbody tr th:only-of-type {\n",
       "        vertical-align: middle;\n",
       "    }\n",
       "\n",
       "    .dataframe tbody tr th {\n",
       "        vertical-align: top;\n",
       "    }\n",
       "\n",
       "    .dataframe thead th {\n",
       "        text-align: right;\n",
       "    }\n",
       "</style>\n",
       "<table border=\"1\" class=\"dataframe\">\n",
       "  <thead>\n",
       "    <tr style=\"text-align: right;\">\n",
       "      <th></th>\n",
       "      <th>user_id</th>\n",
       "      <th>retweeter_id</th>\n",
       "      <th>weight</th>\n",
       "    </tr>\n",
       "  </thead>\n",
       "  <tbody>\n",
       "    <tr>\n",
       "      <th>1</th>\n",
       "      <td>50393960</td>\n",
       "      <td>861629679886880768</td>\n",
       "      <td>8</td>\n",
       "    </tr>\n",
       "    <tr>\n",
       "      <th>2</th>\n",
       "      <td>50393960</td>\n",
       "      <td>861629679886880768</td>\n",
       "      <td>8</td>\n",
       "    </tr>\n",
       "    <tr>\n",
       "      <th>3</th>\n",
       "      <td>50393960</td>\n",
       "      <td>861629679886880768</td>\n",
       "      <td>8</td>\n",
       "    </tr>\n",
       "    <tr>\n",
       "      <th>4</th>\n",
       "      <td>50393960</td>\n",
       "      <td>861629679886880768</td>\n",
       "      <td>8</td>\n",
       "    </tr>\n",
       "    <tr>\n",
       "      <th>5</th>\n",
       "      <td>50393960</td>\n",
       "      <td>861629679886880768</td>\n",
       "      <td>8</td>\n",
       "    </tr>\n",
       "    <tr>\n",
       "      <th>6</th>\n",
       "      <td>50393960</td>\n",
       "      <td>861629679886880768</td>\n",
       "      <td>8</td>\n",
       "    </tr>\n",
       "    <tr>\n",
       "      <th>7</th>\n",
       "      <td>50393960</td>\n",
       "      <td>861629679886880768</td>\n",
       "      <td>8</td>\n",
       "    </tr>\n",
       "    <tr>\n",
       "      <th>8</th>\n",
       "      <td>50393960</td>\n",
       "      <td>1425487033309581314</td>\n",
       "      <td>2</td>\n",
       "    </tr>\n",
       "    <tr>\n",
       "      <th>9</th>\n",
       "      <td>50393960</td>\n",
       "      <td>1425487033309581314</td>\n",
       "      <td>2</td>\n",
       "    </tr>\n",
       "  </tbody>\n",
       "</table>\n",
       "</div>"
      ],
      "text/plain": [
       "    user_id         retweeter_id  weight\n",
       "1  50393960   861629679886880768       8\n",
       "2  50393960   861629679886880768       8\n",
       "3  50393960   861629679886880768       8\n",
       "4  50393960   861629679886880768       8\n",
       "5  50393960   861629679886880768       8\n",
       "6  50393960   861629679886880768       8\n",
       "7  50393960   861629679886880768       8\n",
       "8  50393960  1425487033309581314       2\n",
       "9  50393960  1425487033309581314       2"
      ]
     },
     "execution_count": 29,
     "metadata": {},
     "output_type": "execute_result"
    }
   ],
   "source": [
    "#Example of the edge list with weights(10 records)\n",
    "RetweeterDensityEdgeList[1:10]"
   ]
  },
  {
   "cell_type": "code",
   "execution_count": 30,
   "id": "d064d8bc",
   "metadata": {},
   "outputs": [],
   "source": [
    "def drawRetweeterDensity(edge_list):\n",
    "    \"\"\"\n",
    "    This function accepts the edge_list of the influence network and plots it on screen\n",
    "    Returns a list of statistics for the produced graph\n",
    "    \"\"\"\n",
    "    areaOfInfluenceGraph= nx.Graph()\n",
    "    pos = nx.spring_layout(areaOfInfluenceGraph)\n",
    "    for index, row in edge_list.iterrows():\n",
    "        areaOfInfluenceGraph.add_edges_from([ (row['user_id'],row['retweeter_id'])], weight=row['weight'])\n",
    "    pos = nx.spring_layout(areaOfInfluenceGraph)\n",
    "    plt.figure(3,figsize=(150,150)) \n",
    "    nx.draw(areaOfInfluenceGraph,pos,with_labels=False)\n",
    "    plt.show() \n",
    "    return [\n",
    "        nx.degree_histogram(areaOfInfluenceGraph),\n",
    "        nx.clustering(areaOfInfluenceGraph),\n",
    "        nx.betweenness_centrality(areaOfInfluenceGraph),\n",
    "        nx.degree_assortativity_coefficient(areaOfInfluenceGraph)]"
   ]
  },
  {
   "cell_type": "code",
   "execution_count": 31,
   "id": "2d332cdb",
   "metadata": {},
   "outputs": [],
   "source": [
    "def drawDegreeDistributionHistogram(degree_hist):\n",
    "    plt.bar(range(0,len(degree_hist)),degree_hist)\n",
    "    plt.xlabel(\"Degree\")\n",
    "    plt.ylabel(\"Frequency\")\n",
    "    plt.show() \n",
    "def drawDegreeDistributionHistogramFiltered(degree_hist):\n",
    "    k,v = zip(*degree_hist)\n",
    "    plt.bar(k,v)\n",
    "    plt.xlabel(\"Degree\")\n",
    "    plt.ylabel(\"Frequency\")\n",
    "    plt.show() "
   ]
  },
  {
   "cell_type": "code",
   "execution_count": 32,
   "id": "7808c61b",
   "metadata": {},
   "outputs": [
    {
     "ename": "KeyboardInterrupt",
     "evalue": "",
     "output_type": "error",
     "traceback": [
      "\u001b[0;31m---------------------------------------------------------------------------\u001b[0m",
      "\u001b[0;31mKeyboardInterrupt\u001b[0m                         Traceback (most recent call last)",
      "\u001b[0;32m/var/folders/l5/mx57pwsx20q723nhg1zkx9740000gn/T/ipykernel_26247/253091952.py\u001b[0m in \u001b[0;36m<module>\u001b[0;34m\u001b[0m\n\u001b[0;32m----> 1\u001b[0;31m \u001b[0mstats\u001b[0m \u001b[0;34m=\u001b[0m \u001b[0mdrawRetweeterDensity\u001b[0m\u001b[0;34m(\u001b[0m\u001b[0mRetweeterDensityEdgeList\u001b[0m\u001b[0;34m)\u001b[0m\u001b[0;34m\u001b[0m\u001b[0;34m\u001b[0m\u001b[0m\n\u001b[0m",
      "\u001b[0;32m/var/folders/l5/mx57pwsx20q723nhg1zkx9740000gn/T/ipykernel_26247/2096811037.py\u001b[0m in \u001b[0;36mdrawRetweeterDensity\u001b[0;34m(edge_list)\u001b[0m\n\u001b[1;32m      8\u001b[0m     \u001b[0;32mfor\u001b[0m \u001b[0mindex\u001b[0m\u001b[0;34m,\u001b[0m \u001b[0mrow\u001b[0m \u001b[0;32min\u001b[0m \u001b[0medge_list\u001b[0m\u001b[0;34m.\u001b[0m\u001b[0miterrows\u001b[0m\u001b[0;34m(\u001b[0m\u001b[0;34m)\u001b[0m\u001b[0;34m:\u001b[0m\u001b[0;34m\u001b[0m\u001b[0;34m\u001b[0m\u001b[0m\n\u001b[1;32m      9\u001b[0m         \u001b[0mareaOfInfluenceGraph\u001b[0m\u001b[0;34m.\u001b[0m\u001b[0madd_edges_from\u001b[0m\u001b[0;34m(\u001b[0m\u001b[0;34m[\u001b[0m \u001b[0;34m(\u001b[0m\u001b[0mrow\u001b[0m\u001b[0;34m[\u001b[0m\u001b[0;34m'user_id'\u001b[0m\u001b[0;34m]\u001b[0m\u001b[0;34m,\u001b[0m\u001b[0mrow\u001b[0m\u001b[0;34m[\u001b[0m\u001b[0;34m'retweeter_id'\u001b[0m\u001b[0;34m]\u001b[0m\u001b[0;34m)\u001b[0m\u001b[0;34m]\u001b[0m\u001b[0;34m,\u001b[0m \u001b[0mweight\u001b[0m\u001b[0;34m=\u001b[0m\u001b[0mrow\u001b[0m\u001b[0;34m[\u001b[0m\u001b[0;34m'weight'\u001b[0m\u001b[0;34m]\u001b[0m\u001b[0;34m)\u001b[0m\u001b[0;34m\u001b[0m\u001b[0;34m\u001b[0m\u001b[0m\n\u001b[0;32m---> 10\u001b[0;31m     \u001b[0mpos\u001b[0m \u001b[0;34m=\u001b[0m \u001b[0mnx\u001b[0m\u001b[0;34m.\u001b[0m\u001b[0mspring_layout\u001b[0m\u001b[0;34m(\u001b[0m\u001b[0mareaOfInfluenceGraph\u001b[0m\u001b[0;34m)\u001b[0m\u001b[0;34m\u001b[0m\u001b[0;34m\u001b[0m\u001b[0m\n\u001b[0m\u001b[1;32m     11\u001b[0m     \u001b[0mplt\u001b[0m\u001b[0;34m.\u001b[0m\u001b[0mfigure\u001b[0m\u001b[0;34m(\u001b[0m\u001b[0;36m3\u001b[0m\u001b[0;34m,\u001b[0m\u001b[0mfigsize\u001b[0m\u001b[0;34m=\u001b[0m\u001b[0;34m(\u001b[0m\u001b[0;36m150\u001b[0m\u001b[0;34m,\u001b[0m\u001b[0;36m150\u001b[0m\u001b[0;34m)\u001b[0m\u001b[0;34m)\u001b[0m\u001b[0;34m\u001b[0m\u001b[0;34m\u001b[0m\u001b[0m\n\u001b[1;32m     12\u001b[0m     \u001b[0mnx\u001b[0m\u001b[0;34m.\u001b[0m\u001b[0mdraw\u001b[0m\u001b[0;34m(\u001b[0m\u001b[0mareaOfInfluenceGraph\u001b[0m\u001b[0;34m,\u001b[0m\u001b[0mpos\u001b[0m\u001b[0;34m,\u001b[0m\u001b[0mwith_labels\u001b[0m\u001b[0;34m=\u001b[0m\u001b[0;32mFalse\u001b[0m\u001b[0;34m)\u001b[0m\u001b[0;34m\u001b[0m\u001b[0;34m\u001b[0m\u001b[0m\n",
      "\u001b[0;32m~/opt/anaconda3/lib/python3.8/site-packages/networkx/utils/decorators.py\u001b[0m in \u001b[0;36margmap_spring_layout_1\u001b[0;34m(G, k, pos, fixed, iterations, threshold, weight, scale, center, dim, seed)\u001b[0m\n\u001b[1;32m      2\u001b[0m \u001b[0;32mfrom\u001b[0m \u001b[0mos\u001b[0m\u001b[0;34m.\u001b[0m\u001b[0mpath\u001b[0m \u001b[0;32mimport\u001b[0m \u001b[0msplitext\u001b[0m\u001b[0;34m\u001b[0m\u001b[0;34m\u001b[0m\u001b[0m\n\u001b[1;32m      3\u001b[0m \u001b[0;32mfrom\u001b[0m \u001b[0mcontextlib\u001b[0m \u001b[0;32mimport\u001b[0m \u001b[0mcontextmanager\u001b[0m\u001b[0;34m\u001b[0m\u001b[0;34m\u001b[0m\u001b[0m\n\u001b[0;32m----> 4\u001b[0;31m \u001b[0;32mfrom\u001b[0m \u001b[0mpathlib\u001b[0m \u001b[0;32mimport\u001b[0m \u001b[0mPath\u001b[0m\u001b[0;34m\u001b[0m\u001b[0;34m\u001b[0m\u001b[0m\n\u001b[0m\u001b[1;32m      5\u001b[0m \u001b[0;32mimport\u001b[0m \u001b[0mwarnings\u001b[0m\u001b[0;34m\u001b[0m\u001b[0;34m\u001b[0m\u001b[0m\n\u001b[1;32m      6\u001b[0m \u001b[0;34m\u001b[0m\u001b[0m\n",
      "\u001b[0;32m~/opt/anaconda3/lib/python3.8/site-packages/networkx/drawing/layout.py\u001b[0m in \u001b[0;36mspring_layout\u001b[0;34m(G, k, pos, fixed, iterations, threshold, weight, scale, center, dim, seed)\u001b[0m\n\u001b[1;32m    479\u001b[0m             \u001b[0mnnodes\u001b[0m\u001b[0;34m,\u001b[0m \u001b[0m_\u001b[0m \u001b[0;34m=\u001b[0m \u001b[0mA\u001b[0m\u001b[0;34m.\u001b[0m\u001b[0mshape\u001b[0m\u001b[0;34m\u001b[0m\u001b[0;34m\u001b[0m\u001b[0m\n\u001b[1;32m    480\u001b[0m             \u001b[0mk\u001b[0m \u001b[0;34m=\u001b[0m \u001b[0mdom_size\u001b[0m \u001b[0;34m/\u001b[0m \u001b[0mnp\u001b[0m\u001b[0;34m.\u001b[0m\u001b[0msqrt\u001b[0m\u001b[0;34m(\u001b[0m\u001b[0mnnodes\u001b[0m\u001b[0;34m)\u001b[0m\u001b[0;34m\u001b[0m\u001b[0;34m\u001b[0m\u001b[0m\n\u001b[0;32m--> 481\u001b[0;31m         pos = _sparse_fruchterman_reingold(\n\u001b[0m\u001b[1;32m    482\u001b[0m             \u001b[0mA\u001b[0m\u001b[0;34m,\u001b[0m \u001b[0mk\u001b[0m\u001b[0;34m,\u001b[0m \u001b[0mpos_arr\u001b[0m\u001b[0;34m,\u001b[0m \u001b[0mfixed\u001b[0m\u001b[0;34m,\u001b[0m \u001b[0miterations\u001b[0m\u001b[0;34m,\u001b[0m \u001b[0mthreshold\u001b[0m\u001b[0;34m,\u001b[0m \u001b[0mdim\u001b[0m\u001b[0;34m,\u001b[0m \u001b[0mseed\u001b[0m\u001b[0;34m\u001b[0m\u001b[0;34m\u001b[0m\u001b[0m\n\u001b[1;32m    483\u001b[0m         )\n",
      "\u001b[0;32m~/opt/anaconda3/lib/python3.8/site-packages/networkx/utils/decorators.py\u001b[0m in \u001b[0;36mfunc\u001b[0;34m(_argmap__wrapper, *args, **kwargs)\u001b[0m\n\u001b[1;32m    793\u001b[0m \u001b[0;34m\u001b[0m\u001b[0m\n\u001b[1;32m    794\u001b[0m             \u001b[0;32mdef\u001b[0m \u001b[0mfunc\u001b[0m\u001b[0;34m(\u001b[0m\u001b[0;34m*\u001b[0m\u001b[0margs\u001b[0m\u001b[0;34m,\u001b[0m \u001b[0m__wrapper\u001b[0m\u001b[0;34m=\u001b[0m\u001b[0;32mNone\u001b[0m\u001b[0;34m,\u001b[0m \u001b[0;34m**\u001b[0m\u001b[0mkwargs\u001b[0m\u001b[0;34m)\u001b[0m\u001b[0;34m:\u001b[0m\u001b[0;34m\u001b[0m\u001b[0;34m\u001b[0m\u001b[0m\n\u001b[0;32m--> 795\u001b[0;31m                 \u001b[0;32mreturn\u001b[0m \u001b[0margmap\u001b[0m\u001b[0;34m.\u001b[0m\u001b[0m_lazy_compile\u001b[0m\u001b[0;34m(\u001b[0m\u001b[0m__wrapper\u001b[0m\u001b[0;34m)\u001b[0m\u001b[0;34m(\u001b[0m\u001b[0;34m*\u001b[0m\u001b[0margs\u001b[0m\u001b[0;34m,\u001b[0m \u001b[0;34m**\u001b[0m\u001b[0mkwargs\u001b[0m\u001b[0;34m)\u001b[0m\u001b[0;34m\u001b[0m\u001b[0;34m\u001b[0m\u001b[0m\n\u001b[0m\u001b[1;32m    796\u001b[0m \u001b[0;34m\u001b[0m\u001b[0m\n\u001b[1;32m    797\u001b[0m         \u001b[0;31m# standard function-wrapping stuff\u001b[0m\u001b[0;34m\u001b[0m\u001b[0;34m\u001b[0m\u001b[0;34m\u001b[0m\u001b[0m\n",
      "\u001b[0;32m~/opt/anaconda3/lib/python3.8/site-packages/networkx/utils/decorators.py\u001b[0m in \u001b[0;36margmap__sparse_fruchterman_reingold_5\u001b[0;34m(A, k, pos, fixed, iterations, threshold, dim, seed)\u001b[0m\n\u001b[1;32m      2\u001b[0m \u001b[0;32mfrom\u001b[0m \u001b[0mos\u001b[0m\u001b[0;34m.\u001b[0m\u001b[0mpath\u001b[0m \u001b[0;32mimport\u001b[0m \u001b[0msplitext\u001b[0m\u001b[0;34m\u001b[0m\u001b[0;34m\u001b[0m\u001b[0m\n\u001b[1;32m      3\u001b[0m \u001b[0;32mfrom\u001b[0m \u001b[0mcontextlib\u001b[0m \u001b[0;32mimport\u001b[0m \u001b[0mcontextmanager\u001b[0m\u001b[0;34m\u001b[0m\u001b[0;34m\u001b[0m\u001b[0m\n\u001b[0;32m----> 4\u001b[0;31m \u001b[0;32mfrom\u001b[0m \u001b[0mpathlib\u001b[0m \u001b[0;32mimport\u001b[0m \u001b[0mPath\u001b[0m\u001b[0;34m\u001b[0m\u001b[0;34m\u001b[0m\u001b[0m\n\u001b[0m\u001b[1;32m      5\u001b[0m \u001b[0;32mimport\u001b[0m \u001b[0mwarnings\u001b[0m\u001b[0;34m\u001b[0m\u001b[0;34m\u001b[0m\u001b[0m\n\u001b[1;32m      6\u001b[0m \u001b[0;34m\u001b[0m\u001b[0m\n",
      "\u001b[0;32m~/opt/anaconda3/lib/python3.8/site-packages/networkx/drawing/layout.py\u001b[0m in \u001b[0;36m_sparse_fruchterman_reingold\u001b[0;34m(A, k, pos, fixed, iterations, threshold, dim, seed)\u001b[0m\n\u001b[1;32m    623\u001b[0m             \u001b[0;31m# displacement \"force\"\u001b[0m\u001b[0;34m\u001b[0m\u001b[0;34m\u001b[0m\u001b[0;34m\u001b[0m\u001b[0m\n\u001b[1;32m    624\u001b[0m             displacement[:, i] += (\n\u001b[0;32m--> 625\u001b[0;31m                 \u001b[0mdelta\u001b[0m \u001b[0;34m*\u001b[0m \u001b[0;34m(\u001b[0m\u001b[0mk\u001b[0m \u001b[0;34m*\u001b[0m \u001b[0mk\u001b[0m \u001b[0;34m/\u001b[0m \u001b[0mdistance\u001b[0m \u001b[0;34m**\u001b[0m \u001b[0;36m2\u001b[0m \u001b[0;34m-\u001b[0m \u001b[0mAi\u001b[0m \u001b[0;34m*\u001b[0m \u001b[0mdistance\u001b[0m \u001b[0;34m/\u001b[0m \u001b[0mk\u001b[0m\u001b[0;34m)\u001b[0m\u001b[0;34m\u001b[0m\u001b[0;34m\u001b[0m\u001b[0m\n\u001b[0m\u001b[1;32m    626\u001b[0m             ).sum(axis=1)\n\u001b[1;32m    627\u001b[0m         \u001b[0;31m# update positions\u001b[0m\u001b[0;34m\u001b[0m\u001b[0;34m\u001b[0m\u001b[0;34m\u001b[0m\u001b[0m\n",
      "\u001b[0;31mKeyboardInterrupt\u001b[0m: "
     ]
    }
   ],
   "source": [
    "stats = drawRetweeterDensity(RetweeterDensityEdgeList)"
   ]
  },
  {
   "cell_type": "markdown",
   "id": "8ccd6611",
   "metadata": {},
   "source": [
    "## Network Statistics\n",
    "In this section, we will investigate the topology and the statistics of the aforementioned network"
   ]
  },
  {
   "cell_type": "markdown",
   "id": "0895d25d",
   "metadata": {},
   "source": [
    "The produced network has a very interesting topology indeed, it shows how information flows between communities of different people. There are clusters of people sharing common ideas but, with the help of a few retweeters that retweet content from more than one account, the area of influence is significantly increased. Evidence suggests that in most real-world networks, as well as social networks, nodes tend to create tightly knit groups characterised by a relatively high density of ties(Holland and Leinhardt, 1971,Watts and Strogatz, 1998), something that we can confirm by our networks topology. Let's investigate the topology with the help of statistics to extract insightful knowledge."
   ]
  },
  {
   "cell_type": "markdown",
   "id": "b7ff0bc0",
   "metadata": {},
   "source": [
    "### Degree Distribution"
   ]
  },
  {
   "cell_type": "code",
   "execution_count": null,
   "id": "1e9d409d",
   "metadata": {},
   "outputs": [],
   "source": [
    "#Aquire the degree distibution\n",
    "degree_distribution = stats[0]"
   ]
  },
  {
   "cell_type": "markdown",
   "id": "78664199",
   "metadata": {},
   "source": [
    "Due to the nature of the network in question, the majority of the nodes have 0 connectivity, this shadows any meaningful information from the degree distribution histogram, as seen below"
   ]
  },
  {
   "cell_type": "code",
   "execution_count": null,
   "id": "6acf101e",
   "metadata": {},
   "outputs": [],
   "source": [
    "drawDegreeDistributionHistogram(degree_distribution)"
   ]
  },
  {
   "cell_type": "markdown",
   "id": "9ada9103",
   "metadata": {},
   "source": [
    "We need a way to expose the nature of the network distribution histogram, for this, we will perform the following operations\n",
    "1. Omit the degrees occurrences when degree=0\n",
    "2. plot the logarithm of the frequency and the degree"
   ]
  },
  {
   "cell_type": "code",
   "execution_count": null,
   "id": "42011c8f",
   "metadata": {},
   "outputs": [],
   "source": [
    "\n",
    "zipped=list(zip(degree_distribution,range(0,len(degree_distribution))))\n",
    "zipped_filtered = list(filter(lambda x:x[0]!=0,zipped))\n",
    "zipped_filtered_logged = list(map(lambda x:(math.log(x[0]),math.log(x[1])),zipped_filtered))\n",
    "drawDegreeDistributionHistogramFiltered(zipped_filtered_logged)"
   ]
  },
  {
   "cell_type": "code",
   "execution_count": null,
   "id": "f5b9e20a",
   "metadata": {},
   "outputs": [],
   "source": [
    "zipped_filtered"
   ]
  },
  {
   "cell_type": "markdown",
   "id": "c1a80fe0",
   "metadata": {},
   "source": [
    "We can now reveal the true nature of the histogram, we see that the majority of the nodes (>99%) have connectivity=1 (only interacted with the influencer in question), a few nodes that interacted with 2 influencers and only one(!!) interacted with all of 3 influencers in question. Finally, the 3 remaining nodes are the influencer nodes themselves."
   ]
  },
  {
   "cell_type": "markdown",
   "id": "6bf59720",
   "metadata": {},
   "source": [
    "## Cluster Coefficient"
   ]
  },
  {
   "cell_type": "code",
   "execution_count": null,
   "id": "8477b99a",
   "metadata": {},
   "outputs": [],
   "source": [
    "cluster_coeff = stats[1] #Get Clustering coeficcient statistic"
   ]
  },
  {
   "cell_type": "markdown",
   "id": "d2c506fe",
   "metadata": {},
   "source": [
    "The cluster coefficient of this network is zero, as every node has zero clustering coefficient, that's because of  the topology of the network itself, as there is no clusters formed (3 star topologies loosely connected)"
   ]
  },
  {
   "cell_type": "code",
   "execution_count": null,
   "id": "17dc1979",
   "metadata": {},
   "outputs": [],
   "source": [
    "plt.hist(cluster_coeff.values(),bins=8)"
   ]
  },
  {
   "cell_type": "code",
   "execution_count": null,
   "id": "521b61c2",
   "metadata": {},
   "outputs": [],
   "source": [
    "#There is not a single node with cluster coefficient other than 0\n",
    "series_cluster_coeff = pd.Series(cluster_coeff.values()).reset_index()\n",
    "series_cluster_coeff.loc[series_cluster_coeff[0]!=0] "
   ]
  },
  {
   "cell_type": "markdown",
   "id": "f539e6f1",
   "metadata": {},
   "source": [
    "## Betweenness Centrality"
   ]
  },
  {
   "cell_type": "markdown",
   "id": "1d3bbdb4",
   "metadata": {},
   "source": [
    "Given the topology of the network, and combining the information taken from the degree distribution, we can infer that\n",
    "1. There are 90 nodes that retweet from more than 1 account\n",
    "2. There is 1 node retweeting from all 3 accounts selected\n",
    "3. Therefore, there are 91(common) + 3(3 influencer nodes) nodes with a centrality of more than 0\n",
    "\n",
    "Let's have a look and verify our findings\n"
   ]
  },
  {
   "cell_type": "code",
   "execution_count": null,
   "id": "32400962",
   "metadata": {},
   "outputs": [],
   "source": [
    "betweenness_centrality=pd.Series(stats[2]).reset_index()\n",
    "important_nodes = betweenness_centrality.loc[betweenness_centrality[0]>0.0]\n",
    "print(important_nodes)\n",
    "print(len(important_nodes) == 91 + 3)"
   ]
  },
  {
   "cell_type": "markdown",
   "id": "8a40058e",
   "metadata": {},
   "source": [
    "## Ascosiativity"
   ]
  },
  {
   "cell_type": "markdown",
   "id": "098cb9cf",
   "metadata": {},
   "source": [
    "As expected, due to the nature of the network topology (>99% of nodes, connected with only one node) the network associativity expected to be extremely high"
   ]
  },
  {
   "cell_type": "code",
   "execution_count": null,
   "id": "75f0666c",
   "metadata": {},
   "outputs": [],
   "source": [
    "ascosiativity=pd.Series(stats[3]).reset_index()\n",
    "ascosiativity"
   ]
  },
  {
   "cell_type": "markdown",
   "id": "3251e8b2",
   "metadata": {},
   "source": [
    "## Geographic Influence \n",
    "In this section we will use our data to extract intuition on the geographic area of influence"
   ]
  },
  {
   "cell_type": "markdown",
   "id": "72cc25bd",
   "metadata": {},
   "source": [
    "In the first attempt, we will draw our graph between each influencer and the country, Each country distance from the account node will be proportional of the number of unique retweets coming from this country."
   ]
  },
  {
   "cell_type": "code",
   "execution_count": null,
   "id": "2e6705d8",
   "metadata": {},
   "outputs": [],
   "source": [
    "#Calculation of the edge list with weights for the geographic area of influence map\n",
    "countryInfluence1 = combined.groupby(by=['user_id','retweeter_location']).size().reset_index()\n",
    "countryInfluence1['weight'] = countryInfluence1[0]\n",
    "del countryInfluence1[0]"
   ]
  },
  {
   "cell_type": "code",
   "execution_count": null,
   "id": "324687d9",
   "metadata": {},
   "outputs": [],
   "source": [
    "#Example of the edge list with weights(10 records)\n",
    "countryInfluence1[1:10]"
   ]
  },
  {
   "cell_type": "code",
   "execution_count": null,
   "id": "6ae96c44",
   "metadata": {},
   "outputs": [],
   "source": [
    "#Draw central account and retweeterIDs, the distance from center is how many retweets by specific user\n",
    "def drawAccountInfluence1(account,n):\n",
    "    \"\"\"\n",
    "    This function accepts the edge_list of the Geographic Influence network and plots \n",
    "    \"\"\"\n",
    "    areaOfInfluenceGraph= nx.Graph()\n",
    "    pos = nx.spring_layout(areaOfInfluenceGraph)\n",
    "    for index, row in account.iterrows():\n",
    "        areaOfInfluenceGraph.add_edges_from([ (row['user_id'],row['retweeter_location'])], weight=row['weight'])\n",
    "        areaOfInfluenceGraph.add_edges_from([ (row['retweeter_location'],row['user_id'])], weight=row['weight'])\n",
    "    pos = nx.spring_layout(areaOfInfluenceGraph)\n",
    "    plt.figure(3,figsize=(60,60)) \n",
    "    nx.draw(areaOfInfluenceGraph,pos,with_labels=True)\n",
    "    plt.show() "
   ]
  },
  {
   "cell_type": "code",
   "execution_count": null,
   "id": "e21ebaf0",
   "metadata": {},
   "outputs": [],
   "source": [
    "drawAccountInfluence1(countryInfluence1,countryInfluence1.size)"
   ]
  },
  {
   "cell_type": "markdown",
   "id": "c89ee2fe",
   "metadata": {},
   "source": [
    "## Geographic Influence improved\n",
    "The previous approach had a core issue, it didn't account for engagement. Engagement quantifies how much user interaction there is with your campaign ([Source](https://business.twitter.com/en/help/overview/twitter-ads-glossary.html)). There are two statistics that we can count on\n",
    "\n",
    "\n",
    "1. Number of Unique retweets per account per country.\n",
    "2. Number of Unique retweeters per account per country.\n",
    "\n",
    "If we account only for the first parameter(as we did on the previous graph) then a country A with 100 retweets coming from 100 retweeters(accounts) will be equal to a country B with 100 retweets from 30 retweeters(accounts). Obviously, the country B is way more engaged"
   ]
  },
  {
   "cell_type": "markdown",
   "id": "db6a207f",
   "metadata": {},
   "source": [
    "We define our weight function as... $$f(u,r) = 1-\\frac{u}{r}$$\n",
    "Where \n",
    "1. u: Users engaged with this account in the given country\n",
    "2. r: Retweets produced by those users for the given country"
   ]
  },
  {
   "cell_type": "code",
   "execution_count": null,
   "id": "4c0d90ef",
   "metadata": {},
   "outputs": [],
   "source": [
    "uniqueUsers = combined.groupby(by=['user_id','tweet_id','retweeter_location']).size().reset_index()\n",
    "uniqueRetweets = combined.groupby(by=['user_id','retweeter_location']).size().reset_index()"
   ]
  },
  {
   "cell_type": "markdown",
   "id": "4aacd35b",
   "metadata": {},
   "source": [
    "Calculation of the edge list for the improved geographic location graph"
   ]
  },
  {
   "cell_type": "code",
   "execution_count": null,
   "id": "763afede",
   "metadata": {},
   "outputs": [],
   "source": [
    "#Calculation for bill gates \n",
    "\n",
    "billUsers = uniqueUsers.loc[uniqueUsers['user_id']==billId].groupby(by=['retweeter_location']).size().reset_index()\n",
    "billRetweets = uniqueRetweets.loc[uniqueRetweets['user_id']==billId].reset_index()\n",
    "\n",
    "del billRetweets['index']\n",
    "billUsers['unique_users'] = billUsers[0]\n",
    "del billUsers[0]\n",
    "billRetweets['unique_tweets']=billRetweets[0]\n",
    "del billRetweets[0]\n",
    "\n",
    "mergedBill = billUsers.merge(billRetweets,on='retweeter_location')\n",
    "mergedBill['score']=1-mergedBill['unique_users']/mergedBill['unique_tweets']\n",
    "\n",
    "#Example, Score of United States\n",
    "mergedBill.loc[mergedBill['retweeter_location']=='United States']"
   ]
  },
  {
   "cell_type": "code",
   "execution_count": null,
   "id": "a64698d4",
   "metadata": {},
   "outputs": [],
   "source": [
    "#Calculation for elon musk\n",
    "\n",
    "elonUsers = uniqueUsers.loc[uniqueUsers['user_id']==elonId].groupby(by=['retweeter_location']).size().reset_index()\n",
    "elonRetweets = uniqueRetweets.loc[uniqueRetweets['user_id']==elonId].reset_index()\n",
    "\n",
    "\n",
    "del elonRetweets['index']\n",
    "elonUsers['unique_users'] = elonUsers[0]\n",
    "del elonUsers[0]\n",
    "elonRetweets['unique_tweets']=elonRetweets[0]\n",
    "del elonRetweets[0]\n",
    "\n",
    "mergedElon = elonUsers.merge(elonRetweets,on='retweeter_location')\n",
    "mergedElon['score']=1-mergedElon['unique_users']/mergedElon['unique_tweets']\n",
    "\n",
    "#Example, Score of United States\n",
    "mergedElon.loc[mergedElon['retweeter_location']=='United States']"
   ]
  },
  {
   "cell_type": "code",
   "execution_count": null,
   "id": "0316bb16",
   "metadata": {},
   "outputs": [],
   "source": [
    "#Calculation for ellen DeGenerous\n",
    "\n",
    "ellenUsers = uniqueUsers.loc[uniqueUsers['user_id']==ellenId].groupby(by=['retweeter_location']).size().reset_index()\n",
    "ellenRetweets = uniqueRetweets.loc[uniqueRetweets['user_id']==ellenId].reset_index()\n",
    "\n",
    "del ellenRetweets['index']\n",
    "ellenUsers['unique_users'] = ellenUsers[0]\n",
    "del ellenUsers[0]\n",
    "ellenRetweets['unique_tweets']=ellenRetweets[0]\n",
    "del ellenRetweets[0]\n",
    "\n",
    "mergedEllen = ellenUsers.merge(ellenRetweets,on='retweeter_location')\n",
    "mergedEllen['score']=1-mergedEllen['unique_users']/mergedEllen['unique_tweets']\n",
    "\n",
    "#Example, Score of United States\n",
    "mergedEllen.loc[mergedEllen['retweeter_location']=='United States']"
   ]
  },
  {
   "cell_type": "code",
   "execution_count": null,
   "id": "e24d0c20",
   "metadata": {},
   "outputs": [],
   "source": [
    "#Merged edge list with weights\n",
    "merged=mergedBill.append(mergedElon).append(mergedEllen)"
   ]
  },
  {
   "cell_type": "code",
   "execution_count": null,
   "id": "bd86be86",
   "metadata": {},
   "outputs": [],
   "source": [
    "#Example of edge list with weights(10 records)\n",
    "merged[1:10]"
   ]
  },
  {
   "cell_type": "code",
   "execution_count": null,
   "id": "cb6f2058",
   "metadata": {},
   "outputs": [],
   "source": [
    "\n",
    "def drawEngagement(account,color_map=None):\n",
    "    \"\"\"\n",
    "    This function accepts the edge_list of the improvement Geographic Influence network and plots \n",
    "    \"\"\"\n",
    "    color_map= [\"green\"]*(len(account['user_id'].unique())+len(account['retweeter_location'].unique())) if color_map==None else color_map \n",
    "    areaOfInfluenceGraph= nx.Graph()\n",
    "    pos = nx.spring_layout(areaOfInfluenceGraph)\n",
    "    for index, row in account.iterrows():\n",
    "        areaOfInfluenceGraph.add_edge(row['user_id'],row['retweeter_location'], weight=row['score'])\n",
    "        areaOfInfluenceGraph.add_edge(row['retweeter_location'],row['user_id'], weight=row['score'])\n",
    "    pos = nx.spring_layout(areaOfInfluenceGraph)\n",
    "    plt.figure(3,figsize=(50,50)) \n",
    "    nx.draw(areaOfInfluenceGraph,pos,with_labels=True,node_color=color_map)\n",
    "    plt.show() \n",
    "    return [\n",
    "        nx.degree_histogram(areaOfInfluenceGraph),\n",
    "        nx.clustering(areaOfInfluenceGraph),\n",
    "        nx.betweenness_centrality(areaOfInfluenceGraph),\n",
    "        nx.degree_assortativity_coefficient(areaOfInfluenceGraph)]\n"
   ]
  },
  {
   "cell_type": "code",
   "execution_count": null,
   "id": "bf8e7264",
   "metadata": {},
   "outputs": [],
   "source": [
    "stats=drawEngagement(merged)"
   ]
  },
  {
   "cell_type": "markdown",
   "id": "ca0b9a96",
   "metadata": {},
   "source": [
    "## Network Statistics"
   ]
  },
  {
   "cell_type": "markdown",
   "id": "cf4553eb",
   "metadata": {},
   "source": [
    "The network produced, contains similar characteristics to the previous network, providing however an insight view on the influenced geographic areas. Let's have a quick look at the statistics of this network"
   ]
  },
  {
   "cell_type": "markdown",
   "id": "a1916812",
   "metadata": {},
   "source": [
    "## Degree Distribution"
   ]
  },
  {
   "cell_type": "code",
   "execution_count": null,
   "id": "755c1e62",
   "metadata": {},
   "outputs": [],
   "source": [
    "#Aquire the degree distibution\n",
    "degree_distribution = stats[0]"
   ]
  },
  {
   "cell_type": "code",
   "execution_count": null,
   "id": "440eed6f",
   "metadata": {},
   "outputs": [],
   "source": [
    "drawDegreeDistributionHistogram(degree_distribution)"
   ]
  },
  {
   "cell_type": "markdown",
   "id": "c3967299",
   "metadata": {},
   "source": [
    "We can see that the majority of the countries have very low engagement scores, with very few having an extremely high score(closer to the centre), some of the countries are shared between the accounts and some others not"
   ]
  },
  {
   "cell_type": "code",
   "execution_count": null,
   "id": "6fbf5536",
   "metadata": {},
   "outputs": [],
   "source": [
    "high_engaged_countries=merged.loc[merged['score']>0.6]\n",
    "low_engaged_countries=merged.loc[merged['score']<=0.6]\n"
   ]
  },
  {
   "cell_type": "code",
   "execution_count": null,
   "id": "70827f98",
   "metadata": {},
   "outputs": [],
   "source": [
    "high_engaged_countries"
   ]
  },
  {
   "cell_type": "code",
   "execution_count": null,
   "id": "7ca51f9f",
   "metadata": {},
   "outputs": [],
   "source": [
    "low_engaged_countries"
   ]
  },
  {
   "cell_type": "markdown",
   "id": "3b813ecc",
   "metadata": {},
   "source": [
    "## Betweenness Centrality"
   ]
  },
  {
   "cell_type": "markdown",
   "id": "69039de8",
   "metadata": {},
   "source": [
    "The Betweenness Centrality of this network is trivial, due to the topology, there are 3 central account nodes(influencer's nodes) that have very high betweenness centrality score, the rest of the nodes contain near zero score "
   ]
  },
  {
   "cell_type": "code",
   "execution_count": null,
   "id": "86bf0397",
   "metadata": {},
   "outputs": [],
   "source": [
    "betweenness_centrality=pd.Series(stats[2]).reset_index()\n",
    "important_nodes = betweenness_centrality.loc[betweenness_centrality[0]>0.1]\n",
    "not_important_nodes = betweenness_centrality.loc[betweenness_centrality[0]<=0.1]\n",
    "important_nodes"
   ]
  },
  {
   "cell_type": "code",
   "execution_count": null,
   "id": "5e388590",
   "metadata": {},
   "outputs": [],
   "source": [
    "not_important_nodes"
   ]
  },
  {
   "cell_type": "markdown",
   "id": "4a5e40d0",
   "metadata": {},
   "source": [
    "## Ascosiativity"
   ]
  },
  {
   "cell_type": "markdown",
   "id": "c524eb4f",
   "metadata": {},
   "source": [
    "As expected again, due to the nature of the network topology (>99% of nodes, connected with only one node) the network associativity expected to be extremely high"
   ]
  },
  {
   "cell_type": "code",
   "execution_count": null,
   "id": "2d95da49",
   "metadata": {},
   "outputs": [],
   "source": [
    "ascosiativity=pd.Series(stats[3]).reset_index()\n",
    "ascosiativity"
   ]
  },
  {
   "cell_type": "markdown",
   "id": "fee0c83d",
   "metadata": {},
   "source": [
    "## Cluster Coefficient"
   ]
  },
  {
   "cell_type": "raw",
   "id": "5f656bbe",
   "metadata": {},
   "source": [
    "\n",
    "The cluster coefficient of this network is zero, as every node has zero clustering coefficient, that's because of  the topology of the network itself, as there is no clusters formed (3 star topologies interconnected)"
   ]
  },
  {
   "cell_type": "code",
   "execution_count": null,
   "id": "334014f9",
   "metadata": {},
   "outputs": [],
   "source": [
    "cluster_coeff = stats[1] #Get Clustering coeficcient statistic"
   ]
  },
  {
   "cell_type": "code",
   "execution_count": null,
   "id": "072d0799",
   "metadata": {},
   "outputs": [],
   "source": [
    "#There is not a single node with cluster coefficient other than 0\n",
    "series_cluster_coeff = pd.Series(cluster_coeff.values()).reset_index()\n",
    "series_cluster_coeff.loc[series_cluster_coeff[0]!=0] "
   ]
  },
  {
   "cell_type": "code",
   "execution_count": null,
   "id": "1a1f8a1f",
   "metadata": {},
   "outputs": [],
   "source": []
  }
 ],
 "metadata": {
  "kernelspec": {
   "display_name": "Python 3 (ipykernel)",
   "language": "python",
   "name": "python3"
  },
  "language_info": {
   "codemirror_mode": {
    "name": "ipython",
    "version": 3
   },
   "file_extension": ".py",
   "mimetype": "text/x-python",
   "name": "python",
   "nbconvert_exporter": "python",
   "pygments_lexer": "ipython3",
   "version": "3.8.12"
  }
 },
 "nbformat": 4,
 "nbformat_minor": 5
}
